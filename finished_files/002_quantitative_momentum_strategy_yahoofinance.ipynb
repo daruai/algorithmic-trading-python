{
 "cells": [
  {
   "cell_type": "markdown",
   "metadata": {},
   "source": [
    "# Quantitative Momentum Strategy\n",
    "\n",
    "\"Momentum investing\" means investing in the stocks that have increased in price the most.\n",
    "\n",
    "For this project, we're going to build an investing strategy that selects the 50 stocks with the highest price momentum. From there, we will calculate recommended trades for an equal-weight portfolio of these 50 stocks.\n",
    "\n",
    "\n",
    "## Library Imports\n",
    "\n",
    "The first thing we need to do is import the open-source software libraries that we'll be using in this tutorial."
   ]
  },
  {
   "cell_type": "code",
   "execution_count": 31,
   "metadata": {},
   "outputs": [],
   "source": [
    "import numpy as np #The Numpy numerical computing library\n",
    "import pandas as pd #The Pandas data science library\n",
    "import requests #The requests library for HTTP requests in Python\n",
    "import xlsxwriter #The XlsxWriter libarary for \n",
    "import math #The Python math module\n",
    "from scipy import stats #The SciPy stats module\n",
    "import yfinance as yf\n",
    "import tqdm.notebook as tqdm"
   ]
  },
  {
   "cell_type": "markdown",
   "metadata": {},
   "source": [
    "## Importing Our List of Stocks\n",
    "\n",
    "As before, we'll need to import our list of stocks and our API token before proceeding. Make sure the `.csv` file is still in your working directory and import it with the following command:"
   ]
  },
  {
   "cell_type": "code",
   "execution_count": 24,
   "metadata": {},
   "outputs": [],
   "source": [
    "stocks = pd.read_csv('sp_500_stocks.csv')\n",
    "stocks.Ticker=stocks.Ticker.apply(lambda tck: tck.replace(\".\",\"-\"))"
   ]
  },
  {
   "cell_type": "markdown",
   "metadata": {},
   "source": [
    "## Making Our First API Call\n",
    "\n",
    "It's now time to make the first version of our momentum screener!\n",
    "\n",
    "We need to get one-year price returns for each stock in the universe. Here's how."
   ]
  },
  {
   "cell_type": "code",
   "execution_count": 22,
   "metadata": {},
   "outputs": [],
   "source": [
    "symbol = 'AAPL'\n",
    "data = yf.Ticker(symbol)"
   ]
  },
  {
   "cell_type": "markdown",
   "metadata": {},
   "source": [
    "## Parsing Our API Call\n",
    "\n",
    "This API call has all the information we need. We can parse it using the same square-bracket notation as in the first project of this course. Here is an example."
   ]
  },
  {
   "cell_type": "code",
   "execution_count": 23,
   "metadata": {},
   "outputs": [
    {
     "output_type": "execute_result",
     "data": {
      "text/plain": [
       "0.8659351593134377"
      ]
     },
     "metadata": {},
     "execution_count": 23
    }
   ],
   "source": [
    "data.history(period=\"1y\")['Close'].resample('Y').ffill().pct_change()[-1]"
   ]
  },
  {
   "cell_type": "markdown",
   "metadata": {},
   "source": [
    "## Executing A Batch API Call & Building Our DataFrame\n",
    "\n",
    "Just like in our first project, it's now time to execute several batch API calls and add the information we need to our DataFrame.\n",
    "\n",
    "We'll start by running the following code cell, which contains some code we already built last time that we can re-use for this project. More specifically, it contains a function called `chunks` that we can use to divide our list of securities into groups of 100."
   ]
  },
  {
   "cell_type": "code",
   "execution_count": 25,
   "metadata": {},
   "outputs": [],
   "source": [
    "# Function sourced from \n",
    "# https://stackoverflow.com/questions/312443/how-do-you-split-a-list-into-evenly-sized-chunks\n",
    "def chunks(lst, n):\n",
    "    \"\"\"Yield successive n-sized chunks from lst.\"\"\"\n",
    "    for i in range(0, len(lst), n):\n",
    "        yield lst[i:i + n]   \n",
    "        \n",
    "symbol_groups = list(chunks(stocks['Ticker'], 100))\n",
    "symbol_strings = []\n",
    "for i in range(0, len(symbol_groups)):\n",
    "    symbol_strings.append(' '.join(symbol_groups[i]))\n",
    "#     print(symbol_strings[i])\n",
    "\n",
    "my_columns = ['Ticker', 'Price', 'One-Year Price Return', 'Number of Shares to Buy']"
   ]
  },
  {
   "cell_type": "markdown",
   "metadata": {},
   "source": [
    "Now we need to create a blank DataFrame and add our data to the data frame one-by-one."
   ]
  },
  {
   "cell_type": "code",
   "execution_count": 33,
   "metadata": {},
   "outputs": [
    {
     "output_type": "display_data",
     "data": {
      "text/plain": "HBox(children=(HTML(value=''), FloatProgress(value=0.0, max=6.0), HTML(value='')))",
      "application/vnd.jupyter.widget-view+json": {
       "version_major": 2,
       "version_minor": 0,
       "model_id": "7c48f6c69dde4ee2b0cd938dfc0c5be7"
      }
     },
     "metadata": {}
    },
    {
     "output_type": "display_data",
     "data": {
      "text/plain": "HBox(children=(HTML(value=''), FloatProgress(value=0.0), HTML(value='')))",
      "application/vnd.jupyter.widget-view+json": {
       "version_major": 2,
       "version_minor": 0,
       "model_id": "1bf40ff014f345b7b40f8e2d754eb4ec"
      }
     },
     "metadata": {}
    },
    {
     "output_type": "stream",
     "name": "stdout",
     "text": [
      "\n"
     ]
    },
    {
     "output_type": "display_data",
     "data": {
      "text/plain": "HBox(children=(HTML(value=''), FloatProgress(value=0.0), HTML(value='')))",
      "application/vnd.jupyter.widget-view+json": {
       "version_major": 2,
       "version_minor": 0,
       "model_id": "efc02528e5c34b48ae1b4012352dfe15"
      }
     },
     "metadata": {}
    },
    {
     "output_type": "stream",
     "name": "stdout",
     "text": [
      "\n"
     ]
    },
    {
     "output_type": "display_data",
     "data": {
      "text/plain": "HBox(children=(HTML(value=''), FloatProgress(value=0.0), HTML(value='')))",
      "application/vnd.jupyter.widget-view+json": {
       "version_major": 2,
       "version_minor": 0,
       "model_id": "468410c564f647fd9a8216114d89970e"
      }
     },
     "metadata": {}
    },
    {
     "output_type": "stream",
     "name": "stdout",
     "text": [
      "\n"
     ]
    },
    {
     "output_type": "display_data",
     "data": {
      "text/plain": "HBox(children=(HTML(value=''), FloatProgress(value=0.0), HTML(value='')))",
      "application/vnd.jupyter.widget-view+json": {
       "version_major": 2,
       "version_minor": 0,
       "model_id": "505d222ee8c44a299ea568affb802197"
      }
     },
     "metadata": {}
    },
    {
     "output_type": "stream",
     "name": "stdout",
     "text": [
      "\n"
     ]
    },
    {
     "output_type": "display_data",
     "data": {
      "text/plain": "HBox(children=(HTML(value=''), FloatProgress(value=0.0), HTML(value='')))",
      "application/vnd.jupyter.widget-view+json": {
       "version_major": 2,
       "version_minor": 0,
       "model_id": "015f39a9e4d74681a746c20e44ad5215"
      }
     },
     "metadata": {}
    },
    {
     "output_type": "stream",
     "name": "stdout",
     "text": [
      "\n"
     ]
    },
    {
     "output_type": "display_data",
     "data": {
      "text/plain": "HBox(children=(HTML(value=''), FloatProgress(value=0.0, max=5.0), HTML(value='')))",
      "application/vnd.jupyter.widget-view+json": {
       "version_major": 2,
       "version_minor": 0,
       "model_id": "7c9ceee973ba46a4bef1e2e78550de30"
      }
     },
     "metadata": {}
    },
    {
     "output_type": "stream",
     "name": "stdout",
     "text": [
      "\n\n"
     ]
    },
    {
     "output_type": "execute_result",
     "data": {
      "text/plain": [
       "    Ticker   Price  One-Year Price Return Number of Shares to Buy\n",
       "0        A  117.31               0.385050                     N/A\n",
       "1      AAL   15.66              -0.433990                     N/A\n",
       "2      AAP  160.68               0.008870                     N/A\n",
       "3     AAPL  131.97               0.872460                     N/A\n",
       "4     ABBV  103.26               0.228193                     N/A\n",
       "..     ...     ...                    ...                     ...\n",
       "497    YUM  107.54               0.107375                     N/A\n",
       "498    ZBH  149.25               0.007466                     N/A\n",
       "499   ZBRA  376.89               0.493815                     N/A\n",
       "500   ZION   43.34              -0.126609                     N/A\n",
       "501    ZTS  160.72               0.222423                     N/A\n",
       "\n",
       "[502 rows x 4 columns]"
      ],
      "text/html": "<div>\n<style scoped>\n    .dataframe tbody tr th:only-of-type {\n        vertical-align: middle;\n    }\n\n    .dataframe tbody tr th {\n        vertical-align: top;\n    }\n\n    .dataframe thead th {\n        text-align: right;\n    }\n</style>\n<table border=\"1\" class=\"dataframe\">\n  <thead>\n    <tr style=\"text-align: right;\">\n      <th></th>\n      <th>Ticker</th>\n      <th>Price</th>\n      <th>One-Year Price Return</th>\n      <th>Number of Shares to Buy</th>\n    </tr>\n  </thead>\n  <tbody>\n    <tr>\n      <th>0</th>\n      <td>A</td>\n      <td>117.31</td>\n      <td>0.385050</td>\n      <td>N/A</td>\n    </tr>\n    <tr>\n      <th>1</th>\n      <td>AAL</td>\n      <td>15.66</td>\n      <td>-0.433990</td>\n      <td>N/A</td>\n    </tr>\n    <tr>\n      <th>2</th>\n      <td>AAP</td>\n      <td>160.68</td>\n      <td>0.008870</td>\n      <td>N/A</td>\n    </tr>\n    <tr>\n      <th>3</th>\n      <td>AAPL</td>\n      <td>131.97</td>\n      <td>0.872460</td>\n      <td>N/A</td>\n    </tr>\n    <tr>\n      <th>4</th>\n      <td>ABBV</td>\n      <td>103.26</td>\n      <td>0.228193</td>\n      <td>N/A</td>\n    </tr>\n    <tr>\n      <th>...</th>\n      <td>...</td>\n      <td>...</td>\n      <td>...</td>\n      <td>...</td>\n    </tr>\n    <tr>\n      <th>497</th>\n      <td>YUM</td>\n      <td>107.54</td>\n      <td>0.107375</td>\n      <td>N/A</td>\n    </tr>\n    <tr>\n      <th>498</th>\n      <td>ZBH</td>\n      <td>149.25</td>\n      <td>0.007466</td>\n      <td>N/A</td>\n    </tr>\n    <tr>\n      <th>499</th>\n      <td>ZBRA</td>\n      <td>376.89</td>\n      <td>0.493815</td>\n      <td>N/A</td>\n    </tr>\n    <tr>\n      <th>500</th>\n      <td>ZION</td>\n      <td>43.34</td>\n      <td>-0.126609</td>\n      <td>N/A</td>\n    </tr>\n    <tr>\n      <th>501</th>\n      <td>ZTS</td>\n      <td>160.72</td>\n      <td>0.222423</td>\n      <td>N/A</td>\n    </tr>\n  </tbody>\n</table>\n<p>502 rows × 4 columns</p>\n</div>"
     },
     "metadata": {},
     "execution_count": 33
    }
   ],
   "source": [
    "final_dataframe = pd.DataFrame(columns = my_columns)\n",
    "\n",
    "for symbol_string in tqdm.tqdm(symbol_strings):\n",
    "    data = yf.Tickers(symbol_string).tickers\n",
    "    errors=[]\n",
    "    for t in tqdm.tqdm(data):\n",
    "        try:\n",
    "            final_dataframe = final_dataframe.append(\n",
    "                                        pd.Series([t.ticker, \n",
    "                                                   t.info['previousClose'],\n",
    "                                                   t.history(period=\"1y\")['Close'].resample('Y').ffill().pct_change()[-1],\n",
    "                                                   'N/A'\n",
    "                                                   ], \n",
    "                                                  index = my_columns), \n",
    "                                        ignore_index = True)\n",
    "        except:\n",
    "            errors.append(t.ticker)\n",
    "        \n",
    "    \n",
    "final_dataframe"
   ]
  },
  {
   "cell_type": "code",
   "execution_count": 34,
   "metadata": {},
   "outputs": [],
   "source": [
    "final_dataframe.to_csv(\"year_return.csv\",index=False)"
   ]
  },
  {
   "cell_type": "markdown",
   "metadata": {},
   "source": [
    "## Removing Low-Momentum Stocks\n",
    "\n",
    "The investment strategy that we're building seeks to identify the 50 highest-momentum stocks in the S&P 500.\n",
    "\n",
    "Because of this, the next thing we need to do is remove all the stocks in our DataFrame that fall below this momentum threshold. We'll sort the DataFrame by the stocks' one-year price return, and drop all stocks outside the top 50.\n"
   ]
  },
  {
   "cell_type": "code",
   "execution_count": 35,
   "metadata": {},
   "outputs": [
    {
     "output_type": "execute_result",
     "data": {
      "text/plain": [
       "   Ticker    Price  One-Year Price Return Number of Shares to Buy\n",
       "0      LB    38.96               1.203472                     N/A\n",
       "1    NVDA   519.75               1.194435                     N/A\n",
       "2    PYPL   238.64               1.190718                     N/A\n",
       "3     ALB   149.64               1.102301                     N/A\n",
       "4     AMD    91.81               1.008921                     N/A\n",
       "5    CDNS   134.00               0.940456                     N/A\n",
       "6     NOW   553.89               0.925404                     N/A\n",
       "7    IDXX   497.14               0.894905                     N/A\n",
       "8     FCX    24.79               0.885015                     N/A\n",
       "9    ALGN   528.03               0.883888                     N/A\n",
       "10   AAPL   131.97               0.872460                     N/A\n",
       "11    WST   282.96               0.870743                     N/A\n",
       "12   SNPS   256.28               0.833298                     N/A\n",
       "13   ABMD   303.41               0.808137                     N/A\n",
       "14    FDX   268.82               0.774265                     N/A\n",
       "15    ROL    40.05               0.767841                     N/A\n",
       "16   AMZN  3172.69               0.754430                     N/A\n",
       "17    PWR    70.93               0.742142                     N/A\n",
       "18   PAYC   462.13               0.740425                     N/A\n",
       "19   QCOM   148.79               0.725381                     N/A\n",
       "20   TWTR    53.97               0.707020                     N/A\n",
       "21   MSCI   432.46               0.701867                     N/A\n",
       "22    CMG  1412.55               0.682921                     N/A\n",
       "23   TMUS   132.92               0.680311                     N/A\n",
       "24   LRCX   480.34               0.657204                     N/A\n",
       "25   DXCM   355.02               0.646201                     N/A\n",
       "26   TTWO   202.50               0.640693                     N/A\n",
       "27   ADSK   301.39               0.629592                     N/A\n",
       "28   NFLX   513.97               0.587941                     N/A\n",
       "29     DE   269.21               0.579413                     N/A\n",
       "30   TSCO   146.88               0.564397                     N/A\n",
       "31   IPGP   220.97               0.551097                     N/A\n",
       "32   ODFL   198.25               0.550268                     N/A\n",
       "33    BIO   575.07               0.548523                     N/A\n",
       "34   ATVI    90.96               0.543068                     N/A\n",
       "35    DVA   115.13               0.537517                     N/A\n",
       "36    UPS   172.19               0.513001                     N/A\n",
       "37   ADBE   499.86               0.512462                     N/A\n",
       "38   SIVB   375.99               0.501613                     N/A\n",
       "39   MKTX   573.08               0.497881                     N/A\n",
       "40   ZBRA   376.89               0.493815                     N/A\n",
       "41   XLNX   141.99               0.475794                     N/A\n",
       "42   KLAC   259.08               0.472564                     N/A\n",
       "43   INTU   381.16               0.460876                     N/A\n",
       "44    DHR   221.49               0.456865                     N/A\n",
       "45   NLOK    21.04               0.454671                     N/A\n",
       "46    BLK   707.18               0.452037                     N/A\n",
       "47    PKI   139.71               0.449771                     N/A\n",
       "48   MXIM    86.58               0.449638                     N/A\n",
       "49   MSFT   222.75               0.442451                     N/A\n",
       "50    TYL   434.26               0.439571                     N/A"
      ],
      "text/html": "<div>\n<style scoped>\n    .dataframe tbody tr th:only-of-type {\n        vertical-align: middle;\n    }\n\n    .dataframe tbody tr th {\n        vertical-align: top;\n    }\n\n    .dataframe thead th {\n        text-align: right;\n    }\n</style>\n<table border=\"1\" class=\"dataframe\">\n  <thead>\n    <tr style=\"text-align: right;\">\n      <th></th>\n      <th>Ticker</th>\n      <th>Price</th>\n      <th>One-Year Price Return</th>\n      <th>Number of Shares to Buy</th>\n    </tr>\n  </thead>\n  <tbody>\n    <tr>\n      <th>0</th>\n      <td>LB</td>\n      <td>38.96</td>\n      <td>1.203472</td>\n      <td>N/A</td>\n    </tr>\n    <tr>\n      <th>1</th>\n      <td>NVDA</td>\n      <td>519.75</td>\n      <td>1.194435</td>\n      <td>N/A</td>\n    </tr>\n    <tr>\n      <th>2</th>\n      <td>PYPL</td>\n      <td>238.64</td>\n      <td>1.190718</td>\n      <td>N/A</td>\n    </tr>\n    <tr>\n      <th>3</th>\n      <td>ALB</td>\n      <td>149.64</td>\n      <td>1.102301</td>\n      <td>N/A</td>\n    </tr>\n    <tr>\n      <th>4</th>\n      <td>AMD</td>\n      <td>91.81</td>\n      <td>1.008921</td>\n      <td>N/A</td>\n    </tr>\n    <tr>\n      <th>5</th>\n      <td>CDNS</td>\n      <td>134.00</td>\n      <td>0.940456</td>\n      <td>N/A</td>\n    </tr>\n    <tr>\n      <th>6</th>\n      <td>NOW</td>\n      <td>553.89</td>\n      <td>0.925404</td>\n      <td>N/A</td>\n    </tr>\n    <tr>\n      <th>7</th>\n      <td>IDXX</td>\n      <td>497.14</td>\n      <td>0.894905</td>\n      <td>N/A</td>\n    </tr>\n    <tr>\n      <th>8</th>\n      <td>FCX</td>\n      <td>24.79</td>\n      <td>0.885015</td>\n      <td>N/A</td>\n    </tr>\n    <tr>\n      <th>9</th>\n      <td>ALGN</td>\n      <td>528.03</td>\n      <td>0.883888</td>\n      <td>N/A</td>\n    </tr>\n    <tr>\n      <th>10</th>\n      <td>AAPL</td>\n      <td>131.97</td>\n      <td>0.872460</td>\n      <td>N/A</td>\n    </tr>\n    <tr>\n      <th>11</th>\n      <td>WST</td>\n      <td>282.96</td>\n      <td>0.870743</td>\n      <td>N/A</td>\n    </tr>\n    <tr>\n      <th>12</th>\n      <td>SNPS</td>\n      <td>256.28</td>\n      <td>0.833298</td>\n      <td>N/A</td>\n    </tr>\n    <tr>\n      <th>13</th>\n      <td>ABMD</td>\n      <td>303.41</td>\n      <td>0.808137</td>\n      <td>N/A</td>\n    </tr>\n    <tr>\n      <th>14</th>\n      <td>FDX</td>\n      <td>268.82</td>\n      <td>0.774265</td>\n      <td>N/A</td>\n    </tr>\n    <tr>\n      <th>15</th>\n      <td>ROL</td>\n      <td>40.05</td>\n      <td>0.767841</td>\n      <td>N/A</td>\n    </tr>\n    <tr>\n      <th>16</th>\n      <td>AMZN</td>\n      <td>3172.69</td>\n      <td>0.754430</td>\n      <td>N/A</td>\n    </tr>\n    <tr>\n      <th>17</th>\n      <td>PWR</td>\n      <td>70.93</td>\n      <td>0.742142</td>\n      <td>N/A</td>\n    </tr>\n    <tr>\n      <th>18</th>\n      <td>PAYC</td>\n      <td>462.13</td>\n      <td>0.740425</td>\n      <td>N/A</td>\n    </tr>\n    <tr>\n      <th>19</th>\n      <td>QCOM</td>\n      <td>148.79</td>\n      <td>0.725381</td>\n      <td>N/A</td>\n    </tr>\n    <tr>\n      <th>20</th>\n      <td>TWTR</td>\n      <td>53.97</td>\n      <td>0.707020</td>\n      <td>N/A</td>\n    </tr>\n    <tr>\n      <th>21</th>\n      <td>MSCI</td>\n      <td>432.46</td>\n      <td>0.701867</td>\n      <td>N/A</td>\n    </tr>\n    <tr>\n      <th>22</th>\n      <td>CMG</td>\n      <td>1412.55</td>\n      <td>0.682921</td>\n      <td>N/A</td>\n    </tr>\n    <tr>\n      <th>23</th>\n      <td>TMUS</td>\n      <td>132.92</td>\n      <td>0.680311</td>\n      <td>N/A</td>\n    </tr>\n    <tr>\n      <th>24</th>\n      <td>LRCX</td>\n      <td>480.34</td>\n      <td>0.657204</td>\n      <td>N/A</td>\n    </tr>\n    <tr>\n      <th>25</th>\n      <td>DXCM</td>\n      <td>355.02</td>\n      <td>0.646201</td>\n      <td>N/A</td>\n    </tr>\n    <tr>\n      <th>26</th>\n      <td>TTWO</td>\n      <td>202.50</td>\n      <td>0.640693</td>\n      <td>N/A</td>\n    </tr>\n    <tr>\n      <th>27</th>\n      <td>ADSK</td>\n      <td>301.39</td>\n      <td>0.629592</td>\n      <td>N/A</td>\n    </tr>\n    <tr>\n      <th>28</th>\n      <td>NFLX</td>\n      <td>513.97</td>\n      <td>0.587941</td>\n      <td>N/A</td>\n    </tr>\n    <tr>\n      <th>29</th>\n      <td>DE</td>\n      <td>269.21</td>\n      <td>0.579413</td>\n      <td>N/A</td>\n    </tr>\n    <tr>\n      <th>30</th>\n      <td>TSCO</td>\n      <td>146.88</td>\n      <td>0.564397</td>\n      <td>N/A</td>\n    </tr>\n    <tr>\n      <th>31</th>\n      <td>IPGP</td>\n      <td>220.97</td>\n      <td>0.551097</td>\n      <td>N/A</td>\n    </tr>\n    <tr>\n      <th>32</th>\n      <td>ODFL</td>\n      <td>198.25</td>\n      <td>0.550268</td>\n      <td>N/A</td>\n    </tr>\n    <tr>\n      <th>33</th>\n      <td>BIO</td>\n      <td>575.07</td>\n      <td>0.548523</td>\n      <td>N/A</td>\n    </tr>\n    <tr>\n      <th>34</th>\n      <td>ATVI</td>\n      <td>90.96</td>\n      <td>0.543068</td>\n      <td>N/A</td>\n    </tr>\n    <tr>\n      <th>35</th>\n      <td>DVA</td>\n      <td>115.13</td>\n      <td>0.537517</td>\n      <td>N/A</td>\n    </tr>\n    <tr>\n      <th>36</th>\n      <td>UPS</td>\n      <td>172.19</td>\n      <td>0.513001</td>\n      <td>N/A</td>\n    </tr>\n    <tr>\n      <th>37</th>\n      <td>ADBE</td>\n      <td>499.86</td>\n      <td>0.512462</td>\n      <td>N/A</td>\n    </tr>\n    <tr>\n      <th>38</th>\n      <td>SIVB</td>\n      <td>375.99</td>\n      <td>0.501613</td>\n      <td>N/A</td>\n    </tr>\n    <tr>\n      <th>39</th>\n      <td>MKTX</td>\n      <td>573.08</td>\n      <td>0.497881</td>\n      <td>N/A</td>\n    </tr>\n    <tr>\n      <th>40</th>\n      <td>ZBRA</td>\n      <td>376.89</td>\n      <td>0.493815</td>\n      <td>N/A</td>\n    </tr>\n    <tr>\n      <th>41</th>\n      <td>XLNX</td>\n      <td>141.99</td>\n      <td>0.475794</td>\n      <td>N/A</td>\n    </tr>\n    <tr>\n      <th>42</th>\n      <td>KLAC</td>\n      <td>259.08</td>\n      <td>0.472564</td>\n      <td>N/A</td>\n    </tr>\n    <tr>\n      <th>43</th>\n      <td>INTU</td>\n      <td>381.16</td>\n      <td>0.460876</td>\n      <td>N/A</td>\n    </tr>\n    <tr>\n      <th>44</th>\n      <td>DHR</td>\n      <td>221.49</td>\n      <td>0.456865</td>\n      <td>N/A</td>\n    </tr>\n    <tr>\n      <th>45</th>\n      <td>NLOK</td>\n      <td>21.04</td>\n      <td>0.454671</td>\n      <td>N/A</td>\n    </tr>\n    <tr>\n      <th>46</th>\n      <td>BLK</td>\n      <td>707.18</td>\n      <td>0.452037</td>\n      <td>N/A</td>\n    </tr>\n    <tr>\n      <th>47</th>\n      <td>PKI</td>\n      <td>139.71</td>\n      <td>0.449771</td>\n      <td>N/A</td>\n    </tr>\n    <tr>\n      <th>48</th>\n      <td>MXIM</td>\n      <td>86.58</td>\n      <td>0.449638</td>\n      <td>N/A</td>\n    </tr>\n    <tr>\n      <th>49</th>\n      <td>MSFT</td>\n      <td>222.75</td>\n      <td>0.442451</td>\n      <td>N/A</td>\n    </tr>\n    <tr>\n      <th>50</th>\n      <td>TYL</td>\n      <td>434.26</td>\n      <td>0.439571</td>\n      <td>N/A</td>\n    </tr>\n  </tbody>\n</table>\n</div>"
     },
     "metadata": {},
     "execution_count": 35
    }
   ],
   "source": [
    "final_dataframe.sort_values('One-Year Price Return', ascending = False, inplace = True)\n",
    "final_dataframe = final_dataframe[:51]\n",
    "final_dataframe.reset_index(drop = True, inplace = True)\n",
    "final_dataframe"
   ]
  },
  {
   "cell_type": "markdown",
   "metadata": {},
   "source": [
    "## Calculating the Number of Shares to Buy\n",
    "\n",
    "Just like in the last project, we now need to calculate the number of shares we need to buy. The one change we're going to make is wrapping this functionality inside a function, since we'll be using it again later in this Jupyter Notebook.\n",
    "\n",
    "Since we've already done most of the work on this, try to complete the following two code cells without watching me do it first!"
   ]
  },
  {
   "cell_type": "code",
   "execution_count": 36,
   "metadata": {},
   "outputs": [
    {
     "output_type": "stream",
     "name": "stdout",
     "text": [
      "1000000\n"
     ]
    }
   ],
   "source": [
    "def portfolio_input():\n",
    "    global portfolio_size\n",
    "    portfolio_size = input(\"Enter the value of your portfolio:\")\n",
    "\n",
    "    try:\n",
    "        val = float(portfolio_size)\n",
    "    except ValueError:\n",
    "        print(\"That's not a number! \\n Try again:\")\n",
    "        portfolio_size = input(\"Enter the value of your portfolio:\")\n",
    "\n",
    "portfolio_input()\n",
    "print(portfolio_size)"
   ]
  },
  {
   "cell_type": "code",
   "execution_count": 37,
   "metadata": {},
   "outputs": [
    {
     "output_type": "execute_result",
     "data": {
      "text/plain": [
       "   Ticker    Price  One-Year Price Return  Number of Shares to Buy\n",
       "0      LB    38.96               1.203472                      503\n",
       "1    NVDA   519.75               1.194435                       37\n",
       "2    PYPL   238.64               1.190718                       82\n",
       "3     ALB   149.64               1.102301                      131\n",
       "4     AMD    91.81               1.008921                      213\n",
       "5    CDNS   134.00               0.940456                      146\n",
       "6     NOW   553.89               0.925404                       35\n",
       "7    IDXX   497.14               0.894905                       39\n",
       "8     FCX    24.79               0.885015                      790\n",
       "9    ALGN   528.03               0.883888                       37\n",
       "10   AAPL   131.97               0.872460                      148\n",
       "11    WST   282.96               0.870743                       69\n",
       "12   SNPS   256.28               0.833298                       76\n",
       "13   ABMD   303.41               0.808137                       64\n",
       "14    FDX   268.82               0.774265                       72\n",
       "15    ROL    40.05               0.767841                      489\n",
       "16   AMZN  3172.69               0.754430                        6\n",
       "17    PWR    70.93               0.742142                      276\n",
       "18   PAYC   462.13               0.740425                       42\n",
       "19   QCOM   148.79               0.725381                      131\n",
       "20   TWTR    53.97               0.707020                      363\n",
       "21   MSCI   432.46               0.701867                       45\n",
       "22    CMG  1412.55               0.682921                       13\n",
       "23   TMUS   132.92               0.680311                      147\n",
       "24   LRCX   480.34               0.657204                       40\n",
       "25   DXCM   355.02               0.646201                       55\n",
       "26   TTWO   202.50               0.640693                       96\n",
       "27   ADSK   301.39               0.629592                       65\n",
       "28   NFLX   513.97               0.587941                       38\n",
       "29     DE   269.21               0.579413                       72\n",
       "30   TSCO   146.88               0.564397                      133\n",
       "31   IPGP   220.97               0.551097                       88\n",
       "32   ODFL   198.25               0.550268                       98\n",
       "33    BIO   575.07               0.548523                       34\n",
       "34   ATVI    90.96               0.543068                      215\n",
       "35    DVA   115.13               0.537517                      170\n",
       "36    UPS   172.19               0.513001                      113\n",
       "37   ADBE   499.86               0.512462                       39\n",
       "38   SIVB   375.99               0.501613                       52\n",
       "39   MKTX   573.08               0.497881                       34\n",
       "40   ZBRA   376.89               0.493815                       52\n",
       "41   XLNX   141.99               0.475794                      138\n",
       "42   KLAC   259.08               0.472564                       75\n",
       "43   INTU   381.16               0.460876                       51\n",
       "44    DHR   221.49               0.456865                       88\n",
       "45   NLOK    21.04               0.454671                      931\n",
       "46    BLK   707.18               0.452037                       27\n",
       "47    PKI   139.71               0.449771                      140\n",
       "48   MXIM    86.58               0.449638                      226\n",
       "49   MSFT   222.75               0.442451                       88\n",
       "50    TYL   434.26               0.439571                       45"
      ],
      "text/html": "<div>\n<style scoped>\n    .dataframe tbody tr th:only-of-type {\n        vertical-align: middle;\n    }\n\n    .dataframe tbody tr th {\n        vertical-align: top;\n    }\n\n    .dataframe thead th {\n        text-align: right;\n    }\n</style>\n<table border=\"1\" class=\"dataframe\">\n  <thead>\n    <tr style=\"text-align: right;\">\n      <th></th>\n      <th>Ticker</th>\n      <th>Price</th>\n      <th>One-Year Price Return</th>\n      <th>Number of Shares to Buy</th>\n    </tr>\n  </thead>\n  <tbody>\n    <tr>\n      <th>0</th>\n      <td>LB</td>\n      <td>38.96</td>\n      <td>1.203472</td>\n      <td>503</td>\n    </tr>\n    <tr>\n      <th>1</th>\n      <td>NVDA</td>\n      <td>519.75</td>\n      <td>1.194435</td>\n      <td>37</td>\n    </tr>\n    <tr>\n      <th>2</th>\n      <td>PYPL</td>\n      <td>238.64</td>\n      <td>1.190718</td>\n      <td>82</td>\n    </tr>\n    <tr>\n      <th>3</th>\n      <td>ALB</td>\n      <td>149.64</td>\n      <td>1.102301</td>\n      <td>131</td>\n    </tr>\n    <tr>\n      <th>4</th>\n      <td>AMD</td>\n      <td>91.81</td>\n      <td>1.008921</td>\n      <td>213</td>\n    </tr>\n    <tr>\n      <th>5</th>\n      <td>CDNS</td>\n      <td>134.00</td>\n      <td>0.940456</td>\n      <td>146</td>\n    </tr>\n    <tr>\n      <th>6</th>\n      <td>NOW</td>\n      <td>553.89</td>\n      <td>0.925404</td>\n      <td>35</td>\n    </tr>\n    <tr>\n      <th>7</th>\n      <td>IDXX</td>\n      <td>497.14</td>\n      <td>0.894905</td>\n      <td>39</td>\n    </tr>\n    <tr>\n      <th>8</th>\n      <td>FCX</td>\n      <td>24.79</td>\n      <td>0.885015</td>\n      <td>790</td>\n    </tr>\n    <tr>\n      <th>9</th>\n      <td>ALGN</td>\n      <td>528.03</td>\n      <td>0.883888</td>\n      <td>37</td>\n    </tr>\n    <tr>\n      <th>10</th>\n      <td>AAPL</td>\n      <td>131.97</td>\n      <td>0.872460</td>\n      <td>148</td>\n    </tr>\n    <tr>\n      <th>11</th>\n      <td>WST</td>\n      <td>282.96</td>\n      <td>0.870743</td>\n      <td>69</td>\n    </tr>\n    <tr>\n      <th>12</th>\n      <td>SNPS</td>\n      <td>256.28</td>\n      <td>0.833298</td>\n      <td>76</td>\n    </tr>\n    <tr>\n      <th>13</th>\n      <td>ABMD</td>\n      <td>303.41</td>\n      <td>0.808137</td>\n      <td>64</td>\n    </tr>\n    <tr>\n      <th>14</th>\n      <td>FDX</td>\n      <td>268.82</td>\n      <td>0.774265</td>\n      <td>72</td>\n    </tr>\n    <tr>\n      <th>15</th>\n      <td>ROL</td>\n      <td>40.05</td>\n      <td>0.767841</td>\n      <td>489</td>\n    </tr>\n    <tr>\n      <th>16</th>\n      <td>AMZN</td>\n      <td>3172.69</td>\n      <td>0.754430</td>\n      <td>6</td>\n    </tr>\n    <tr>\n      <th>17</th>\n      <td>PWR</td>\n      <td>70.93</td>\n      <td>0.742142</td>\n      <td>276</td>\n    </tr>\n    <tr>\n      <th>18</th>\n      <td>PAYC</td>\n      <td>462.13</td>\n      <td>0.740425</td>\n      <td>42</td>\n    </tr>\n    <tr>\n      <th>19</th>\n      <td>QCOM</td>\n      <td>148.79</td>\n      <td>0.725381</td>\n      <td>131</td>\n    </tr>\n    <tr>\n      <th>20</th>\n      <td>TWTR</td>\n      <td>53.97</td>\n      <td>0.707020</td>\n      <td>363</td>\n    </tr>\n    <tr>\n      <th>21</th>\n      <td>MSCI</td>\n      <td>432.46</td>\n      <td>0.701867</td>\n      <td>45</td>\n    </tr>\n    <tr>\n      <th>22</th>\n      <td>CMG</td>\n      <td>1412.55</td>\n      <td>0.682921</td>\n      <td>13</td>\n    </tr>\n    <tr>\n      <th>23</th>\n      <td>TMUS</td>\n      <td>132.92</td>\n      <td>0.680311</td>\n      <td>147</td>\n    </tr>\n    <tr>\n      <th>24</th>\n      <td>LRCX</td>\n      <td>480.34</td>\n      <td>0.657204</td>\n      <td>40</td>\n    </tr>\n    <tr>\n      <th>25</th>\n      <td>DXCM</td>\n      <td>355.02</td>\n      <td>0.646201</td>\n      <td>55</td>\n    </tr>\n    <tr>\n      <th>26</th>\n      <td>TTWO</td>\n      <td>202.50</td>\n      <td>0.640693</td>\n      <td>96</td>\n    </tr>\n    <tr>\n      <th>27</th>\n      <td>ADSK</td>\n      <td>301.39</td>\n      <td>0.629592</td>\n      <td>65</td>\n    </tr>\n    <tr>\n      <th>28</th>\n      <td>NFLX</td>\n      <td>513.97</td>\n      <td>0.587941</td>\n      <td>38</td>\n    </tr>\n    <tr>\n      <th>29</th>\n      <td>DE</td>\n      <td>269.21</td>\n      <td>0.579413</td>\n      <td>72</td>\n    </tr>\n    <tr>\n      <th>30</th>\n      <td>TSCO</td>\n      <td>146.88</td>\n      <td>0.564397</td>\n      <td>133</td>\n    </tr>\n    <tr>\n      <th>31</th>\n      <td>IPGP</td>\n      <td>220.97</td>\n      <td>0.551097</td>\n      <td>88</td>\n    </tr>\n    <tr>\n      <th>32</th>\n      <td>ODFL</td>\n      <td>198.25</td>\n      <td>0.550268</td>\n      <td>98</td>\n    </tr>\n    <tr>\n      <th>33</th>\n      <td>BIO</td>\n      <td>575.07</td>\n      <td>0.548523</td>\n      <td>34</td>\n    </tr>\n    <tr>\n      <th>34</th>\n      <td>ATVI</td>\n      <td>90.96</td>\n      <td>0.543068</td>\n      <td>215</td>\n    </tr>\n    <tr>\n      <th>35</th>\n      <td>DVA</td>\n      <td>115.13</td>\n      <td>0.537517</td>\n      <td>170</td>\n    </tr>\n    <tr>\n      <th>36</th>\n      <td>UPS</td>\n      <td>172.19</td>\n      <td>0.513001</td>\n      <td>113</td>\n    </tr>\n    <tr>\n      <th>37</th>\n      <td>ADBE</td>\n      <td>499.86</td>\n      <td>0.512462</td>\n      <td>39</td>\n    </tr>\n    <tr>\n      <th>38</th>\n      <td>SIVB</td>\n      <td>375.99</td>\n      <td>0.501613</td>\n      <td>52</td>\n    </tr>\n    <tr>\n      <th>39</th>\n      <td>MKTX</td>\n      <td>573.08</td>\n      <td>0.497881</td>\n      <td>34</td>\n    </tr>\n    <tr>\n      <th>40</th>\n      <td>ZBRA</td>\n      <td>376.89</td>\n      <td>0.493815</td>\n      <td>52</td>\n    </tr>\n    <tr>\n      <th>41</th>\n      <td>XLNX</td>\n      <td>141.99</td>\n      <td>0.475794</td>\n      <td>138</td>\n    </tr>\n    <tr>\n      <th>42</th>\n      <td>KLAC</td>\n      <td>259.08</td>\n      <td>0.472564</td>\n      <td>75</td>\n    </tr>\n    <tr>\n      <th>43</th>\n      <td>INTU</td>\n      <td>381.16</td>\n      <td>0.460876</td>\n      <td>51</td>\n    </tr>\n    <tr>\n      <th>44</th>\n      <td>DHR</td>\n      <td>221.49</td>\n      <td>0.456865</td>\n      <td>88</td>\n    </tr>\n    <tr>\n      <th>45</th>\n      <td>NLOK</td>\n      <td>21.04</td>\n      <td>0.454671</td>\n      <td>931</td>\n    </tr>\n    <tr>\n      <th>46</th>\n      <td>BLK</td>\n      <td>707.18</td>\n      <td>0.452037</td>\n      <td>27</td>\n    </tr>\n    <tr>\n      <th>47</th>\n      <td>PKI</td>\n      <td>139.71</td>\n      <td>0.449771</td>\n      <td>140</td>\n    </tr>\n    <tr>\n      <th>48</th>\n      <td>MXIM</td>\n      <td>86.58</td>\n      <td>0.449638</td>\n      <td>226</td>\n    </tr>\n    <tr>\n      <th>49</th>\n      <td>MSFT</td>\n      <td>222.75</td>\n      <td>0.442451</td>\n      <td>88</td>\n    </tr>\n    <tr>\n      <th>50</th>\n      <td>TYL</td>\n      <td>434.26</td>\n      <td>0.439571</td>\n      <td>45</td>\n    </tr>\n  </tbody>\n</table>\n</div>"
     },
     "metadata": {},
     "execution_count": 37
    }
   ],
   "source": [
    "position_size = float(portfolio_size) / len(final_dataframe.index)\n",
    "for i in range(0, len(final_dataframe['Ticker'])):\n",
    "    final_dataframe.loc[i, 'Number of Shares to Buy'] = math.floor(position_size / final_dataframe['Price'][i])\n",
    "final_dataframe"
   ]
  },
  {
   "cell_type": "markdown",
   "metadata": {},
   "source": [
    "## Building a Better (and More Realistic) Momentum Strategy\n",
    "\n",
    "Real-world quantitative investment firms differentiate between \"high quality\" and \"low quality\" momentum stocks:\n",
    "\n",
    "* High-quality momentum stocks show \"slow and steady\" outperformance over long periods of time\n",
    "* Low-quality momentum stocks might not show any momentum for a long time, and then surge upwards.\n",
    "\n",
    "The reason why high-quality momentum stocks are preferred is because low-quality momentum can often be cause by short-term news that is unlikely to be repeated in the future (such as an FDA approval for a biotechnology company).\n",
    "\n",
    "To identify high-quality momentum, we're going to build a strategy that selects stocks from the highest percentiles of: \n",
    "\n",
    "* 1-month price returns\n",
    "* 3-month price returns\n",
    "* 6-month price returns\n",
    "* 1-year price returns\n",
    "\n",
    "Let's start by building our DataFrame. You'll notice that I use the abbreviation `hqm` often. It stands for `high-quality momentum`."
   ]
  },
  {
   "cell_type": "code",
   "execution_count": 44,
   "metadata": {},
   "outputs": [
    {
     "output_type": "display_data",
     "data": {
      "text/plain": "HBox(children=(HTML(value=''), FloatProgress(value=0.0, max=6.0), HTML(value='')))",
      "application/vnd.jupyter.widget-view+json": {
       "version_major": 2,
       "version_minor": 0,
       "model_id": "36f83d36f6b94452b1bb69c90a979b36"
      }
     },
     "metadata": {}
    },
    {
     "output_type": "display_data",
     "data": {
      "text/plain": "HBox(children=(HTML(value=''), FloatProgress(value=0.0), HTML(value='')))",
      "application/vnd.jupyter.widget-view+json": {
       "version_major": 2,
       "version_minor": 0,
       "model_id": "61fa7545cb7443f59090cabd8a9cd31e"
      }
     },
     "metadata": {}
    },
    {
     "output_type": "stream",
     "name": "stdout",
     "text": [
      "\n"
     ]
    },
    {
     "output_type": "display_data",
     "data": {
      "text/plain": "HBox(children=(HTML(value=''), FloatProgress(value=0.0), HTML(value='')))",
      "application/vnd.jupyter.widget-view+json": {
       "version_major": 2,
       "version_minor": 0,
       "model_id": "5be789a60d314e2b941c805e3975fe2d"
      }
     },
     "metadata": {}
    },
    {
     "output_type": "stream",
     "name": "stdout",
     "text": [
      "\n"
     ]
    },
    {
     "output_type": "display_data",
     "data": {
      "text/plain": "HBox(children=(HTML(value=''), FloatProgress(value=0.0), HTML(value='')))",
      "application/vnd.jupyter.widget-view+json": {
       "version_major": 2,
       "version_minor": 0,
       "model_id": "82831b1b93334d6598261b6c4b87fc66"
      }
     },
     "metadata": {}
    },
    {
     "output_type": "stream",
     "name": "stdout",
     "text": [
      "\n"
     ]
    },
    {
     "output_type": "display_data",
     "data": {
      "text/plain": "HBox(children=(HTML(value=''), FloatProgress(value=0.0), HTML(value='')))",
      "application/vnd.jupyter.widget-view+json": {
       "version_major": 2,
       "version_minor": 0,
       "model_id": "b998a1fc7be843999d4de34e743ab8ab"
      }
     },
     "metadata": {}
    },
    {
     "output_type": "stream",
     "name": "stdout",
     "text": [
      "\n"
     ]
    },
    {
     "output_type": "display_data",
     "data": {
      "text/plain": "HBox(children=(HTML(value=''), FloatProgress(value=0.0), HTML(value='')))",
      "application/vnd.jupyter.widget-view+json": {
       "version_major": 2,
       "version_minor": 0,
       "model_id": "72626c8921e14a5d9e7b03ca7c2dcf94"
      }
     },
     "metadata": {}
    },
    {
     "output_type": "stream",
     "name": "stdout",
     "text": [
      "\n"
     ]
    },
    {
     "output_type": "display_data",
     "data": {
      "text/plain": "HBox(children=(HTML(value=''), FloatProgress(value=0.0, max=5.0), HTML(value='')))",
      "application/vnd.jupyter.widget-view+json": {
       "version_major": 2,
       "version_minor": 0,
       "model_id": "4ee23b7c1ac9472fa86c6b363c78cd62"
      }
     },
     "metadata": {}
    },
    {
     "output_type": "stream",
     "name": "stdout",
     "text": [
      "\n\n"
     ]
    },
    {
     "output_type": "execute_result",
     "data": {
      "text/plain": [
       "Index(['Ticker', 'Price', 'Number of Shares to Buy', 'One-Year Price Return',\n",
       "       'One-Year Return Percentile', 'Six-Month Price Return',\n",
       "       'Six-Month Return Percentile', 'Three-Month Price Return',\n",
       "       'Three-Month Return Percentile', 'One-Month Price Return',\n",
       "       'One-Month Return Percentile', 'HQM Score'],\n",
       "      dtype='object')"
      ]
     },
     "metadata": {},
     "execution_count": 44
    }
   ],
   "source": [
    "hqm_columns = [\n",
    "                'Ticker', \n",
    "                'Price', \n",
    "                'Number of Shares to Buy', \n",
    "                'One-Year Price Return', \n",
    "                'One-Year Return Percentile',\n",
    "                'Six-Month Price Return',\n",
    "                'Six-Month Return Percentile',\n",
    "                'Three-Month Price Return',\n",
    "                'Three-Month Return Percentile',\n",
    "                'One-Month Price Return',\n",
    "                'One-Month Return Percentile',\n",
    "                'HQM Score'\n",
    "                ]\n",
    "\n",
    "hqm_dataframe = pd.DataFrame(columns = hqm_columns)\n",
    "\n",
    "for symbol_string in tqdm.tqdm(symbol_strings):\n",
    "    data = yf.Tickers(symbol_string).tickers\n",
    "    errors=[]\n",
    "    for t in tqdm.tqdm(data):\n",
    "        try:\n",
    "            hist=t.history(period=\"1y\")['Close']\n",
    "            hqm_dataframe = hqm_dataframe.append(\n",
    "                                        pd.Series([t.ticker, \n",
    "                                                   t.info['previousClose'],\n",
    "                                                   'N/A',\n",
    "                                                   hist.resample('Y').ffill().pct_change()[-1],\n",
    "                                                   'N/A',\n",
    "                                                   hist.resample('6M').ffill().pct_change()[-1],\n",
    "                                                   'N/A',\n",
    "                                                   hist.resample('3M').ffill().pct_change()[-1],\n",
    "                                                   'N/A',\n",
    "                                                   hist.resample('M').ffill().pct_change()[-1],\n",
    "                                                   'N/A',\n",
    "                                                   'N/A'\n",
    "                                                   ], \n",
    "                                                  index = hqm_columns), \n",
    "                                        ignore_index = True)\n",
    "        except:\n",
    "            errors.append(t.ticker)\n",
    "        \n",
    "hqm_dataframe.columns"
   ]
  },
  {
   "cell_type": "markdown",
   "metadata": {},
   "source": [
    "## Calculating Momentum Percentiles\n",
    "\n",
    "We now need to calculate momentum percentile scores for every stock in the universe. More specifically, we need to calculate percentile scores for the following metrics for every stock:\n",
    "\n",
    "* `One-Year Price Return`\n",
    "* `Six-Month Price Return`\n",
    "* `Three-Month Price Return`\n",
    "* `One-Month Price Return`\n",
    "\n",
    "Here's how we'll do this:"
   ]
  },
  {
   "cell_type": "code",
   "execution_count": 45,
   "metadata": {},
   "outputs": [
    {
     "output_type": "stream",
     "name": "stdout",
     "text": [
      "0       0.850598\n1      0.0239044\n2       0.386454\n3       0.976096\n4       0.699203\n         ...    \n497     0.547809\n498     0.384462\n499     0.918327\n500     0.203187\n501     0.695219\nName: One-Year Return Percentile, Length: 502, dtype: object\n0      0.681275\n1      0.494024\n2      0.290837\n3       0.89243\n4      0.197211\n         ...   \n497    0.591633\n498    0.537849\n499    0.888446\n500    0.631474\n501    0.388446\nName: Six-Month Return Percentile, Length: 502, dtype: object\n0       0.505976\n1       0.784861\n2         0.2251\n3       0.535857\n4       0.587649\n         ...    \n497     0.613546\n498     0.364542\n499     0.948207\n500     0.942231\n501    0.0956175\nName: Three-Month Return Percentile, Length: 502, dtype: object\n0      0.328685\n1      0.934263\n2      0.814741\n3      0.948207\n4      0.213147\n         ...   \n497    0.573705\n498    0.316733\n499    0.386454\n500    0.922311\n501    0.324701\nName: One-Month Return Percentile, Length: 502, dtype: object\n"
     ]
    },
    {
     "output_type": "execute_result",
     "data": {
      "text/plain": [
       "    Ticker   Price Number of Shares to Buy  One-Year Price Return  \\\n",
       "0        A  117.31                     N/A               0.384224   \n",
       "1      AAL   15.66                     N/A              -0.438133   \n",
       "2      AAP  160.68                     N/A               0.004962   \n",
       "3     AAPL  131.97                     N/A               0.870124   \n",
       "4     ABBV  103.26                     N/A               0.230577   \n",
       "..     ...     ...                     ...                    ...   \n",
       "497    YUM  107.54                     N/A               0.108791   \n",
       "498    ZBH  149.25                     N/A               0.004503   \n",
       "499   ZBRA  376.89                     N/A               0.495889   \n",
       "500   ZION   43.34                     N/A              -0.128408   \n",
       "501    ZTS  160.72                     N/A               0.223137   \n",
       "\n",
       "    One-Year Return Percentile  Six-Month Price Return  \\\n",
       "0                     0.850598                0.330107   \n",
       "1                    0.0239044                0.228386   \n",
       "2                     0.386454                0.122822   \n",
       "3                     0.976096                0.497760   \n",
       "4                     0.699203                0.078867   \n",
       "..                         ...                     ...   \n",
       "497                   0.547809                0.272708   \n",
       "498                   0.384462                0.253931   \n",
       "499                   0.918327                0.492909   \n",
       "500                   0.203187                0.306161   \n",
       "501                   0.695219                0.177666   \n",
       "\n",
       "    Six-Month Return Percentile  Three-Month Price Return  \\\n",
       "0                      0.681275                  0.164469   \n",
       "1                      0.494024                  0.306347   \n",
       "2                      0.290837                  0.040309   \n",
       "3                       0.89243                  0.177358   \n",
       "4                      0.197211                  0.194725   \n",
       "..                          ...                       ...   \n",
       "497                    0.591633                  0.205616   \n",
       "498                    0.537849                  0.097441   \n",
       "499                    0.888446                  0.513547   \n",
       "500                    0.631474                  0.505230   \n",
       "501                    0.388446                 -0.025449   \n",
       "\n",
       "    Three-Month Return Percentile  One-Month Price Return  \\\n",
       "0                        0.505976                0.003678   \n",
       "1                        0.784861                0.136235   \n",
       "2                          0.2251                0.081161   \n",
       "3                        0.535857                0.143343   \n",
       "4                        0.587649               -0.012813   \n",
       "..                            ...                     ...   \n",
       "497                      0.613546                0.035728   \n",
       "498                      0.364542                0.001916   \n",
       "499                      0.948207                0.009751   \n",
       "500                      0.942231                0.129956   \n",
       "501                     0.0956175                0.003616   \n",
       "\n",
       "    One-Month Return Percentile HQM Score  \n",
       "0                      0.328685       N/A  \n",
       "1                      0.934263       N/A  \n",
       "2                      0.814741       N/A  \n",
       "3                      0.948207       N/A  \n",
       "4                      0.213147       N/A  \n",
       "..                          ...       ...  \n",
       "497                    0.573705       N/A  \n",
       "498                    0.316733       N/A  \n",
       "499                    0.386454       N/A  \n",
       "500                    0.922311       N/A  \n",
       "501                    0.324701       N/A  \n",
       "\n",
       "[502 rows x 12 columns]"
      ],
      "text/html": "<div>\n<style scoped>\n    .dataframe tbody tr th:only-of-type {\n        vertical-align: middle;\n    }\n\n    .dataframe tbody tr th {\n        vertical-align: top;\n    }\n\n    .dataframe thead th {\n        text-align: right;\n    }\n</style>\n<table border=\"1\" class=\"dataframe\">\n  <thead>\n    <tr style=\"text-align: right;\">\n      <th></th>\n      <th>Ticker</th>\n      <th>Price</th>\n      <th>Number of Shares to Buy</th>\n      <th>One-Year Price Return</th>\n      <th>One-Year Return Percentile</th>\n      <th>Six-Month Price Return</th>\n      <th>Six-Month Return Percentile</th>\n      <th>Three-Month Price Return</th>\n      <th>Three-Month Return Percentile</th>\n      <th>One-Month Price Return</th>\n      <th>One-Month Return Percentile</th>\n      <th>HQM Score</th>\n    </tr>\n  </thead>\n  <tbody>\n    <tr>\n      <th>0</th>\n      <td>A</td>\n      <td>117.31</td>\n      <td>N/A</td>\n      <td>0.384224</td>\n      <td>0.850598</td>\n      <td>0.330107</td>\n      <td>0.681275</td>\n      <td>0.164469</td>\n      <td>0.505976</td>\n      <td>0.003678</td>\n      <td>0.328685</td>\n      <td>N/A</td>\n    </tr>\n    <tr>\n      <th>1</th>\n      <td>AAL</td>\n      <td>15.66</td>\n      <td>N/A</td>\n      <td>-0.438133</td>\n      <td>0.0239044</td>\n      <td>0.228386</td>\n      <td>0.494024</td>\n      <td>0.306347</td>\n      <td>0.784861</td>\n      <td>0.136235</td>\n      <td>0.934263</td>\n      <td>N/A</td>\n    </tr>\n    <tr>\n      <th>2</th>\n      <td>AAP</td>\n      <td>160.68</td>\n      <td>N/A</td>\n      <td>0.004962</td>\n      <td>0.386454</td>\n      <td>0.122822</td>\n      <td>0.290837</td>\n      <td>0.040309</td>\n      <td>0.2251</td>\n      <td>0.081161</td>\n      <td>0.814741</td>\n      <td>N/A</td>\n    </tr>\n    <tr>\n      <th>3</th>\n      <td>AAPL</td>\n      <td>131.97</td>\n      <td>N/A</td>\n      <td>0.870124</td>\n      <td>0.976096</td>\n      <td>0.497760</td>\n      <td>0.89243</td>\n      <td>0.177358</td>\n      <td>0.535857</td>\n      <td>0.143343</td>\n      <td>0.948207</td>\n      <td>N/A</td>\n    </tr>\n    <tr>\n      <th>4</th>\n      <td>ABBV</td>\n      <td>103.26</td>\n      <td>N/A</td>\n      <td>0.230577</td>\n      <td>0.699203</td>\n      <td>0.078867</td>\n      <td>0.197211</td>\n      <td>0.194725</td>\n      <td>0.587649</td>\n      <td>-0.012813</td>\n      <td>0.213147</td>\n      <td>N/A</td>\n    </tr>\n    <tr>\n      <th>...</th>\n      <td>...</td>\n      <td>...</td>\n      <td>...</td>\n      <td>...</td>\n      <td>...</td>\n      <td>...</td>\n      <td>...</td>\n      <td>...</td>\n      <td>...</td>\n      <td>...</td>\n      <td>...</td>\n      <td>...</td>\n    </tr>\n    <tr>\n      <th>497</th>\n      <td>YUM</td>\n      <td>107.54</td>\n      <td>N/A</td>\n      <td>0.108791</td>\n      <td>0.547809</td>\n      <td>0.272708</td>\n      <td>0.591633</td>\n      <td>0.205616</td>\n      <td>0.613546</td>\n      <td>0.035728</td>\n      <td>0.573705</td>\n      <td>N/A</td>\n    </tr>\n    <tr>\n      <th>498</th>\n      <td>ZBH</td>\n      <td>149.25</td>\n      <td>N/A</td>\n      <td>0.004503</td>\n      <td>0.384462</td>\n      <td>0.253931</td>\n      <td>0.537849</td>\n      <td>0.097441</td>\n      <td>0.364542</td>\n      <td>0.001916</td>\n      <td>0.316733</td>\n      <td>N/A</td>\n    </tr>\n    <tr>\n      <th>499</th>\n      <td>ZBRA</td>\n      <td>376.89</td>\n      <td>N/A</td>\n      <td>0.495889</td>\n      <td>0.918327</td>\n      <td>0.492909</td>\n      <td>0.888446</td>\n      <td>0.513547</td>\n      <td>0.948207</td>\n      <td>0.009751</td>\n      <td>0.386454</td>\n      <td>N/A</td>\n    </tr>\n    <tr>\n      <th>500</th>\n      <td>ZION</td>\n      <td>43.34</td>\n      <td>N/A</td>\n      <td>-0.128408</td>\n      <td>0.203187</td>\n      <td>0.306161</td>\n      <td>0.631474</td>\n      <td>0.505230</td>\n      <td>0.942231</td>\n      <td>0.129956</td>\n      <td>0.922311</td>\n      <td>N/A</td>\n    </tr>\n    <tr>\n      <th>501</th>\n      <td>ZTS</td>\n      <td>160.72</td>\n      <td>N/A</td>\n      <td>0.223137</td>\n      <td>0.695219</td>\n      <td>0.177666</td>\n      <td>0.388446</td>\n      <td>-0.025449</td>\n      <td>0.0956175</td>\n      <td>0.003616</td>\n      <td>0.324701</td>\n      <td>N/A</td>\n    </tr>\n  </tbody>\n</table>\n<p>502 rows × 12 columns</p>\n</div>"
     },
     "metadata": {},
     "execution_count": 45
    }
   ],
   "source": [
    "time_periods = [\n",
    "                'One-Year',\n",
    "                'Six-Month',\n",
    "                'Three-Month',\n",
    "                'One-Month'\n",
    "                ]\n",
    "\n",
    "for row in hqm_dataframe.index:\n",
    "    for time_period in time_periods:\n",
    "        hqm_dataframe.loc[row, f'{time_period} Return Percentile'] = stats.percentileofscore(hqm_dataframe[f'{time_period} Price Return'], hqm_dataframe.loc[row, f'{time_period} Price Return'])/100\n",
    "\n",
    "# Print each percentile score to make sure it was calculated properly\n",
    "for time_period in time_periods:\n",
    "    print(hqm_dataframe[f'{time_period} Return Percentile'])\n",
    "\n",
    "#Print the entire DataFrame    \n",
    "hqm_dataframe"
   ]
  },
  {
   "cell_type": "code",
   "execution_count": 46,
   "metadata": {},
   "outputs": [],
   "source": [
    "hqm_dataframe.to_csv(\"high_quality_momentum_data.csv\")"
   ]
  },
  {
   "cell_type": "markdown",
   "metadata": {},
   "source": [
    "## Calculating the HQM Score\n",
    "\n",
    "We'll now calculate our `HQM Score`, which is the high-quality momentum score that we'll use to filter for stocks in this investing strategy.\n",
    "\n",
    "The `HQM Score` will be the arithmetic mean of the 4 momentum percentile scores that we calculated in the last section.\n",
    "\n",
    "To calculate arithmetic mean, we will use the `mean` function from Python's built-in `statistics` module."
   ]
  },
  {
   "cell_type": "code",
   "execution_count": 47,
   "metadata": {},
   "outputs": [],
   "source": [
    "from statistics import mean\n",
    "\n",
    "for row in hqm_dataframe.index:\n",
    "    momentum_percentiles = []\n",
    "    for time_period in time_periods:\n",
    "        momentum_percentiles.append(hqm_dataframe.loc[row, f'{time_period} Return Percentile'])\n",
    "    hqm_dataframe.loc[row, 'HQM Score'] = mean(momentum_percentiles)"
   ]
  },
  {
   "cell_type": "markdown",
   "metadata": {},
   "source": [
    "## Selecting the 50 Best Momentum Stocks\n",
    "\n",
    "As before, we can identify the 50 best momentum stocks in our universe by sorting the DataFrame on the `HQM Score` column and dropping all but the top 50 entries."
   ]
  },
  {
   "cell_type": "code",
   "execution_count": 48,
   "metadata": {},
   "outputs": [],
   "source": [
    "hqm_dataframe.sort_values(by = 'HQM Score', ascending = False)\n",
    "hqm_dataframe = hqm_dataframe[:51]"
   ]
  },
  {
   "cell_type": "markdown",
   "metadata": {},
   "source": [
    "## Calculating the Number of Shares to Buy\n",
    "\n",
    "We'll use the `portfolio_input` function that we created earlier to accept our portfolio size. Then we will use similar logic in a `for` loop to calculate the number of shares to buy for each stock in our investment universe."
   ]
  },
  {
   "cell_type": "code",
   "execution_count": 49,
   "metadata": {},
   "outputs": [],
   "source": [
    "portfolio_input()"
   ]
  },
  {
   "cell_type": "code",
   "execution_count": 50,
   "metadata": {},
   "outputs": [
    {
     "output_type": "execute_result",
     "data": {
      "text/plain": [
       "   Ticker    Price Number of Shares to Buy  One-Year Price Return  \\\n",
       "0       A   117.31                     167               0.384224   \n",
       "1     AAL    15.66                    1252              -0.438133   \n",
       "2     AAP   160.68                     122               0.004962   \n",
       "3    AAPL   131.97                     148               0.870124   \n",
       "4    ABBV   103.26                     189               0.230577   \n",
       "5     ABC    96.97                     202               0.157701   \n",
       "6    ABMD   303.41                      64               0.815288   \n",
       "7     ABT   108.35                     180               0.257077   \n",
       "8     ACN   257.30                      76               0.253697   \n",
       "9    ADBE   499.86                      39               0.509991   \n",
       "10    ADI   144.47                     135               0.248636   \n",
       "11    ADM    49.44                     396               0.107457   \n",
       "12    ADP   176.56                     111               0.060948   \n",
       "13   ADSK   301.39                      65               0.629619   \n",
       "14    AEE    76.47                     256               0.025337   \n",
       "15    AEP    81.42                     240              -0.114195   \n",
       "16    AES    23.27                     842               0.214715   \n",
       "17    AFL    43.84                     447              -0.139593   \n",
       "18    AIG    37.37                     524              -0.238553   \n",
       "19    AIV     4.99                    3929               0.010449   \n",
       "20    AIZ   132.62                     147               0.041789   \n",
       "21    AJG   123.42                     158               0.312373   \n",
       "22   AKAM   107.46                     182               0.239755   \n",
       "23    ALB   149.64                     131               1.112256   \n",
       "24   ALGN   528.03                      37               0.871076   \n",
       "25    ALK    52.25                     375              -0.218545   \n",
       "26    ALL   107.19                     182              -0.021519   \n",
       "27   ALLE   113.03                     173              -0.070922   \n",
       "28   ALXN   152.63                     128               0.427832   \n",
       "29   AMAT    85.33                     229               0.409323   \n",
       "30   AMCR    11.64                    1684               0.122144   \n",
       "31    AMD    91.81                     213               1.007087   \n",
       "32    AME   119.04                     164               0.211997   \n",
       "33   AMGN   222.93                      87              -0.041758   \n",
       "34    AMP   189.70                     103               0.182123   \n",
       "35    AMT   218.65                      89              -0.024951   \n",
       "36   AMZN  3172.69                       6               0.777391   \n",
       "37   ANET   288.84                      67               0.435152   \n",
       "38   ANSS   364.17                      53               0.410435   \n",
       "39   ANTM   308.67                      63               0.049834   \n",
       "40    AON   210.61                      93               0.006360   \n",
       "41    AOS    55.48                     353               0.192830   \n",
       "42    APA    14.43                    1358              -0.421987   \n",
       "43    APD   268.35                      73               0.163717   \n",
       "44    APH   129.17                     151               0.211178   \n",
       "45   APTV   128.42                     152               0.354600   \n",
       "46    ARE   174.50                     112               0.105656   \n",
       "47    ATO    92.77                     211              -0.148959   \n",
       "48   ATVI    90.96                     215               0.550352   \n",
       "49    AVB   157.74                     124              -0.213013   \n",
       "50   AVGO   431.46                     N/A               0.431799   \n",
       "\n",
       "   One-Year Return Percentile  Six-Month Price Return  \\\n",
       "0                    0.850598                0.330107   \n",
       "1                   0.0239044                0.228386   \n",
       "2                    0.386454                0.122822   \n",
       "3                    0.976096                0.497760   \n",
       "4                    0.699203                0.078867   \n",
       "5                    0.621514               -0.032387   \n",
       "6                     0.97012                0.281959   \n",
       "7                     0.74502                0.184206   \n",
       "8                    0.737052                0.219230   \n",
       "9                    0.922311                0.144035   \n",
       "10                   0.729084                0.196909   \n",
       "11                   0.543825                0.263604   \n",
       "12                   0.476096                0.200424   \n",
       "13                   0.942231                0.249927   \n",
       "14                   0.420319                0.105265   \n",
       "15                     0.2251                0.034730   \n",
       "16                   0.689243                0.639960   \n",
       "17                   0.191235                0.246444   \n",
       "18                  0.0876494                0.225372   \n",
       "19                    0.40239                0.359580   \n",
       "20                   0.446215                0.307993   \n",
       "21                   0.800797                0.270654   \n",
       "22                   0.719124                0.000000   \n",
       "23                    0.99004                0.978074   \n",
       "24                   0.978088                0.902438   \n",
       "25                  0.0996016                0.451875   \n",
       "26                   0.350598                0.122638   \n",
       "27                   0.278884                0.125178   \n",
       "28                   0.886454                0.375802   \n",
       "29                   0.868526                0.412981   \n",
       "30                   0.567729                0.163850   \n",
       "31                   0.988048                0.749572   \n",
       "32                   0.685259                0.346871   \n",
       "33                   0.318725               -0.034033   \n",
       "34                   0.657371                0.294238   \n",
       "35                   0.344622               -0.140468   \n",
       "36                   0.968127                0.190485   \n",
       "37                   0.894422                0.389849   \n",
       "38                    0.87251                0.244507   \n",
       "39                   0.460159                0.197458   \n",
       "40                   0.388446                0.083361   \n",
       "41                   0.663347                0.192822   \n",
       "42                  0.0278884                0.084067   \n",
       "43                   0.635458                0.118868   \n",
       "44                   0.683267                0.360299   \n",
       "45                   0.828685                0.646817   \n",
       "46                   0.537849                0.086025   \n",
       "47                   0.175299               -0.054215   \n",
       "48                   0.930279                0.205797   \n",
       "49                   0.105578                0.045510   \n",
       "50                   0.890438                0.395322   \n",
       "\n",
       "   Six-Month Return Percentile  Three-Month Price Return  \\\n",
       "0                     0.681275                  0.164469   \n",
       "1                     0.494024                  0.306347   \n",
       "2                     0.290837                  0.040309   \n",
       "3                      0.89243                  0.177358   \n",
       "4                     0.197211                  0.194725   \n",
       "5                    0.0677291                  0.001937   \n",
       "6                     0.603586                  0.117700   \n",
       "7                     0.408367                 -0.008975   \n",
       "8                     0.474104                  0.154199   \n",
       "9                     0.336653                  0.015456   \n",
       "10                    0.432271                  0.250931   \n",
       "11                    0.559761                  0.075692   \n",
       "12                    0.436255                  0.272823   \n",
       "13                    0.533865                  0.294186   \n",
       "14                    0.258964                 -0.022775   \n",
       "15                    0.141434                  0.000002   \n",
       "16                    0.948207                  0.299980   \n",
       "17                    0.525896                  0.226237   \n",
       "18                     0.48008                  0.372484   \n",
       "19                    0.717131                  0.501018   \n",
       "20                    0.641434                  0.108023   \n",
       "21                    0.579681                  0.168372   \n",
       "22                    0.109562                 -0.031210   \n",
       "23                    0.992032                  0.703919   \n",
       "24                    0.988048                  0.594896   \n",
       "25                    0.846614                  0.437210   \n",
       "26                    0.288845                  0.149909   \n",
       "27                    0.298805                  0.159078   \n",
       "28                    0.750996                  0.349471   \n",
       "29                    0.798805                  0.431990   \n",
       "30                     0.36255                  0.064374   \n",
       "31                    0.968127                  0.122637   \n",
       "32                    0.699203                  0.208742   \n",
       "33                    0.063745                 -0.109549   \n",
       "34                    0.621514                  0.251649   \n",
       "35                   0.0159363                 -0.085133   \n",
       "36                    0.424303                  0.043066   \n",
       "37                    0.766932                  0.410670   \n",
       "38                    0.517928                  0.109495   \n",
       "39                    0.434263                  0.168278   \n",
       "40                    0.211155                  0.009272   \n",
       "41                    0.430279                  0.059710   \n",
       "42                    0.213147                  0.542556   \n",
       "43                    0.284861                 -0.097126   \n",
       "44                    0.721116                  0.200866   \n",
       "45                    0.954183                  0.399651   \n",
       "46                    0.219124                  0.094063   \n",
       "47                   0.0498008                 -0.020308   \n",
       "48                    0.442231                  0.130574   \n",
       "49                    0.153386                  0.071249   \n",
       "50                    0.776892                  0.197845   \n",
       "\n",
       "   Three-Month Return Percentile  One-Month Price Return  \\\n",
       "0                       0.505976                0.003678   \n",
       "1                       0.784861                0.136235   \n",
       "2                         0.2251                0.081161   \n",
       "3                       0.535857                0.143343   \n",
       "4                       0.587649               -0.012813   \n",
       "5                       0.139442               -0.062118   \n",
       "6                       0.416335                0.129770   \n",
       "7                        0.12749               -0.006699   \n",
       "8                       0.486056                0.043077   \n",
       "9                       0.169323                0.040839   \n",
       "10                      0.693227                0.049998   \n",
       "11                      0.320717               -0.002411   \n",
       "12                      0.731076                0.021084   \n",
       "13                      0.768924                0.066874   \n",
       "14                      0.103586               -0.006442   \n",
       "15                      0.133466               -0.045058   \n",
       "16                      0.776892                0.143346   \n",
       "17                       0.64741                0.008081   \n",
       "18                      0.876494               -0.017053   \n",
       "19                      0.934263                0.241939   \n",
       "20                      0.384462                0.035936   \n",
       "21                      0.521912                0.068857   \n",
       "22                     0.0916335                0.034586   \n",
       "23                       0.99004                0.118819   \n",
       "24                       0.97012                0.084803   \n",
       "25                      0.914343                0.032862   \n",
       "26                      0.478088                0.052175   \n",
       "27                      0.494024                0.005300   \n",
       "28                      0.856574                0.264597   \n",
       "29                      0.912351                0.029098   \n",
       "30                      0.286853                0.027802   \n",
       "31                      0.428287               -0.006637   \n",
       "32                       0.61753                0.013659   \n",
       "33                     0.0159363                0.012385   \n",
       "34                      0.695219                0.035036   \n",
       "35                     0.0258964               -0.043465   \n",
       "36                      0.231076                0.036709   \n",
       "37                      0.898406                0.078352   \n",
       "38                      0.388446                0.073951   \n",
       "39                       0.51992                0.007280   \n",
       "40                      0.151394                0.013715   \n",
       "41                        0.2749               -0.011366   \n",
       "42                      0.956175                0.130334   \n",
       "43                     0.0199203               -0.040016   \n",
       "44                      0.611554               -0.006056   \n",
       "45                      0.890438                0.081045   \n",
       "46                      0.358566                0.069138   \n",
       "47                      0.113546               -0.029513   \n",
       "48                      0.446215                0.151485   \n",
       "49                      0.304781               -0.039676   \n",
       "50                      0.599602                0.086705   \n",
       "\n",
       "   One-Month Return Percentile HQM Score  \n",
       "0                     0.328685  0.591633  \n",
       "1                     0.934263  0.559263  \n",
       "2                     0.814741  0.429283  \n",
       "3                     0.948207  0.838147  \n",
       "4                     0.213147  0.424303  \n",
       "5                    0.0278884  0.214143  \n",
       "6                     0.920319   0.72759  \n",
       "7                     0.241036  0.380478  \n",
       "8                     0.619522  0.579183  \n",
       "9                     0.609562  0.509462  \n",
       "10                    0.665339   0.62998  \n",
       "11                    0.286853  0.427789  \n",
       "12                    0.476096   0.52988  \n",
       "13                    0.752988  0.749502  \n",
       "14                    0.247012   0.25747  \n",
       "15                    0.059761   0.13994  \n",
       "16                    0.950199  0.841135  \n",
       "17                    0.370518  0.433765  \n",
       "18                    0.189243  0.408367  \n",
       "19                    0.992032  0.761454  \n",
       "20                    0.577689   0.51245  \n",
       "21                    0.758964  0.665339  \n",
       "22                    0.559761   0.37002  \n",
       "23                    0.898406  0.967629  \n",
       "24                    0.822709  0.939741  \n",
       "25                    0.551793  0.603088  \n",
       "26                    0.679283  0.449203  \n",
       "27                    0.340637  0.353088  \n",
       "28                    0.998008  0.873008  \n",
       "29                    0.525896  0.776394  \n",
       "30                    0.523904  0.435259  \n",
       "31                    0.243028  0.656873  \n",
       "32                    0.418327   0.60508  \n",
       "33                    0.400398  0.199701  \n",
       "34                    0.565737   0.63496  \n",
       "35                    0.063745   0.11255  \n",
       "36                    0.579681  0.550797  \n",
       "37                    0.800797  0.840139  \n",
       "38                      0.7749  0.638446  \n",
       "39                    0.364542  0.444721  \n",
       "40                    0.420319  0.292829  \n",
       "41                    0.217131  0.396414  \n",
       "42                    0.924303  0.530378  \n",
       "43                   0.0796813   0.25498  \n",
       "44                     0.25498  0.567729  \n",
       "45                    0.812749  0.871514  \n",
       "46                    0.760956  0.469124  \n",
       "47                    0.121514   0.11504  \n",
       "48                    0.958167  0.694223  \n",
       "49                   0.0856574  0.162351  \n",
       "50                    0.828685  0.773904  "
      ],
      "text/html": "<div>\n<style scoped>\n    .dataframe tbody tr th:only-of-type {\n        vertical-align: middle;\n    }\n\n    .dataframe tbody tr th {\n        vertical-align: top;\n    }\n\n    .dataframe thead th {\n        text-align: right;\n    }\n</style>\n<table border=\"1\" class=\"dataframe\">\n  <thead>\n    <tr style=\"text-align: right;\">\n      <th></th>\n      <th>Ticker</th>\n      <th>Price</th>\n      <th>Number of Shares to Buy</th>\n      <th>One-Year Price Return</th>\n      <th>One-Year Return Percentile</th>\n      <th>Six-Month Price Return</th>\n      <th>Six-Month Return Percentile</th>\n      <th>Three-Month Price Return</th>\n      <th>Three-Month Return Percentile</th>\n      <th>One-Month Price Return</th>\n      <th>One-Month Return Percentile</th>\n      <th>HQM Score</th>\n    </tr>\n  </thead>\n  <tbody>\n    <tr>\n      <th>0</th>\n      <td>A</td>\n      <td>117.31</td>\n      <td>167</td>\n      <td>0.384224</td>\n      <td>0.850598</td>\n      <td>0.330107</td>\n      <td>0.681275</td>\n      <td>0.164469</td>\n      <td>0.505976</td>\n      <td>0.003678</td>\n      <td>0.328685</td>\n      <td>0.591633</td>\n    </tr>\n    <tr>\n      <th>1</th>\n      <td>AAL</td>\n      <td>15.66</td>\n      <td>1252</td>\n      <td>-0.438133</td>\n      <td>0.0239044</td>\n      <td>0.228386</td>\n      <td>0.494024</td>\n      <td>0.306347</td>\n      <td>0.784861</td>\n      <td>0.136235</td>\n      <td>0.934263</td>\n      <td>0.559263</td>\n    </tr>\n    <tr>\n      <th>2</th>\n      <td>AAP</td>\n      <td>160.68</td>\n      <td>122</td>\n      <td>0.004962</td>\n      <td>0.386454</td>\n      <td>0.122822</td>\n      <td>0.290837</td>\n      <td>0.040309</td>\n      <td>0.2251</td>\n      <td>0.081161</td>\n      <td>0.814741</td>\n      <td>0.429283</td>\n    </tr>\n    <tr>\n      <th>3</th>\n      <td>AAPL</td>\n      <td>131.97</td>\n      <td>148</td>\n      <td>0.870124</td>\n      <td>0.976096</td>\n      <td>0.497760</td>\n      <td>0.89243</td>\n      <td>0.177358</td>\n      <td>0.535857</td>\n      <td>0.143343</td>\n      <td>0.948207</td>\n      <td>0.838147</td>\n    </tr>\n    <tr>\n      <th>4</th>\n      <td>ABBV</td>\n      <td>103.26</td>\n      <td>189</td>\n      <td>0.230577</td>\n      <td>0.699203</td>\n      <td>0.078867</td>\n      <td>0.197211</td>\n      <td>0.194725</td>\n      <td>0.587649</td>\n      <td>-0.012813</td>\n      <td>0.213147</td>\n      <td>0.424303</td>\n    </tr>\n    <tr>\n      <th>5</th>\n      <td>ABC</td>\n      <td>96.97</td>\n      <td>202</td>\n      <td>0.157701</td>\n      <td>0.621514</td>\n      <td>-0.032387</td>\n      <td>0.0677291</td>\n      <td>0.001937</td>\n      <td>0.139442</td>\n      <td>-0.062118</td>\n      <td>0.0278884</td>\n      <td>0.214143</td>\n    </tr>\n    <tr>\n      <th>6</th>\n      <td>ABMD</td>\n      <td>303.41</td>\n      <td>64</td>\n      <td>0.815288</td>\n      <td>0.97012</td>\n      <td>0.281959</td>\n      <td>0.603586</td>\n      <td>0.117700</td>\n      <td>0.416335</td>\n      <td>0.129770</td>\n      <td>0.920319</td>\n      <td>0.72759</td>\n    </tr>\n    <tr>\n      <th>7</th>\n      <td>ABT</td>\n      <td>108.35</td>\n      <td>180</td>\n      <td>0.257077</td>\n      <td>0.74502</td>\n      <td>0.184206</td>\n      <td>0.408367</td>\n      <td>-0.008975</td>\n      <td>0.12749</td>\n      <td>-0.006699</td>\n      <td>0.241036</td>\n      <td>0.380478</td>\n    </tr>\n    <tr>\n      <th>8</th>\n      <td>ACN</td>\n      <td>257.30</td>\n      <td>76</td>\n      <td>0.253697</td>\n      <td>0.737052</td>\n      <td>0.219230</td>\n      <td>0.474104</td>\n      <td>0.154199</td>\n      <td>0.486056</td>\n      <td>0.043077</td>\n      <td>0.619522</td>\n      <td>0.579183</td>\n    </tr>\n    <tr>\n      <th>9</th>\n      <td>ADBE</td>\n      <td>499.86</td>\n      <td>39</td>\n      <td>0.509991</td>\n      <td>0.922311</td>\n      <td>0.144035</td>\n      <td>0.336653</td>\n      <td>0.015456</td>\n      <td>0.169323</td>\n      <td>0.040839</td>\n      <td>0.609562</td>\n      <td>0.509462</td>\n    </tr>\n    <tr>\n      <th>10</th>\n      <td>ADI</td>\n      <td>144.47</td>\n      <td>135</td>\n      <td>0.248636</td>\n      <td>0.729084</td>\n      <td>0.196909</td>\n      <td>0.432271</td>\n      <td>0.250931</td>\n      <td>0.693227</td>\n      <td>0.049998</td>\n      <td>0.665339</td>\n      <td>0.62998</td>\n    </tr>\n    <tr>\n      <th>11</th>\n      <td>ADM</td>\n      <td>49.44</td>\n      <td>396</td>\n      <td>0.107457</td>\n      <td>0.543825</td>\n      <td>0.263604</td>\n      <td>0.559761</td>\n      <td>0.075692</td>\n      <td>0.320717</td>\n      <td>-0.002411</td>\n      <td>0.286853</td>\n      <td>0.427789</td>\n    </tr>\n    <tr>\n      <th>12</th>\n      <td>ADP</td>\n      <td>176.56</td>\n      <td>111</td>\n      <td>0.060948</td>\n      <td>0.476096</td>\n      <td>0.200424</td>\n      <td>0.436255</td>\n      <td>0.272823</td>\n      <td>0.731076</td>\n      <td>0.021084</td>\n      <td>0.476096</td>\n      <td>0.52988</td>\n    </tr>\n    <tr>\n      <th>13</th>\n      <td>ADSK</td>\n      <td>301.39</td>\n      <td>65</td>\n      <td>0.629619</td>\n      <td>0.942231</td>\n      <td>0.249927</td>\n      <td>0.533865</td>\n      <td>0.294186</td>\n      <td>0.768924</td>\n      <td>0.066874</td>\n      <td>0.752988</td>\n      <td>0.749502</td>\n    </tr>\n    <tr>\n      <th>14</th>\n      <td>AEE</td>\n      <td>76.47</td>\n      <td>256</td>\n      <td>0.025337</td>\n      <td>0.420319</td>\n      <td>0.105265</td>\n      <td>0.258964</td>\n      <td>-0.022775</td>\n      <td>0.103586</td>\n      <td>-0.006442</td>\n      <td>0.247012</td>\n      <td>0.25747</td>\n    </tr>\n    <tr>\n      <th>15</th>\n      <td>AEP</td>\n      <td>81.42</td>\n      <td>240</td>\n      <td>-0.114195</td>\n      <td>0.2251</td>\n      <td>0.034730</td>\n      <td>0.141434</td>\n      <td>0.000002</td>\n      <td>0.133466</td>\n      <td>-0.045058</td>\n      <td>0.059761</td>\n      <td>0.13994</td>\n    </tr>\n    <tr>\n      <th>16</th>\n      <td>AES</td>\n      <td>23.27</td>\n      <td>842</td>\n      <td>0.214715</td>\n      <td>0.689243</td>\n      <td>0.639960</td>\n      <td>0.948207</td>\n      <td>0.299980</td>\n      <td>0.776892</td>\n      <td>0.143346</td>\n      <td>0.950199</td>\n      <td>0.841135</td>\n    </tr>\n    <tr>\n      <th>17</th>\n      <td>AFL</td>\n      <td>43.84</td>\n      <td>447</td>\n      <td>-0.139593</td>\n      <td>0.191235</td>\n      <td>0.246444</td>\n      <td>0.525896</td>\n      <td>0.226237</td>\n      <td>0.64741</td>\n      <td>0.008081</td>\n      <td>0.370518</td>\n      <td>0.433765</td>\n    </tr>\n    <tr>\n      <th>18</th>\n      <td>AIG</td>\n      <td>37.37</td>\n      <td>524</td>\n      <td>-0.238553</td>\n      <td>0.0876494</td>\n      <td>0.225372</td>\n      <td>0.48008</td>\n      <td>0.372484</td>\n      <td>0.876494</td>\n      <td>-0.017053</td>\n      <td>0.189243</td>\n      <td>0.408367</td>\n    </tr>\n    <tr>\n      <th>19</th>\n      <td>AIV</td>\n      <td>4.99</td>\n      <td>3929</td>\n      <td>0.010449</td>\n      <td>0.40239</td>\n      <td>0.359580</td>\n      <td>0.717131</td>\n      <td>0.501018</td>\n      <td>0.934263</td>\n      <td>0.241939</td>\n      <td>0.992032</td>\n      <td>0.761454</td>\n    </tr>\n    <tr>\n      <th>20</th>\n      <td>AIZ</td>\n      <td>132.62</td>\n      <td>147</td>\n      <td>0.041789</td>\n      <td>0.446215</td>\n      <td>0.307993</td>\n      <td>0.641434</td>\n      <td>0.108023</td>\n      <td>0.384462</td>\n      <td>0.035936</td>\n      <td>0.577689</td>\n      <td>0.51245</td>\n    </tr>\n    <tr>\n      <th>21</th>\n      <td>AJG</td>\n      <td>123.42</td>\n      <td>158</td>\n      <td>0.312373</td>\n      <td>0.800797</td>\n      <td>0.270654</td>\n      <td>0.579681</td>\n      <td>0.168372</td>\n      <td>0.521912</td>\n      <td>0.068857</td>\n      <td>0.758964</td>\n      <td>0.665339</td>\n    </tr>\n    <tr>\n      <th>22</th>\n      <td>AKAM</td>\n      <td>107.46</td>\n      <td>182</td>\n      <td>0.239755</td>\n      <td>0.719124</td>\n      <td>0.000000</td>\n      <td>0.109562</td>\n      <td>-0.031210</td>\n      <td>0.0916335</td>\n      <td>0.034586</td>\n      <td>0.559761</td>\n      <td>0.37002</td>\n    </tr>\n    <tr>\n      <th>23</th>\n      <td>ALB</td>\n      <td>149.64</td>\n      <td>131</td>\n      <td>1.112256</td>\n      <td>0.99004</td>\n      <td>0.978074</td>\n      <td>0.992032</td>\n      <td>0.703919</td>\n      <td>0.99004</td>\n      <td>0.118819</td>\n      <td>0.898406</td>\n      <td>0.967629</td>\n    </tr>\n    <tr>\n      <th>24</th>\n      <td>ALGN</td>\n      <td>528.03</td>\n      <td>37</td>\n      <td>0.871076</td>\n      <td>0.978088</td>\n      <td>0.902438</td>\n      <td>0.988048</td>\n      <td>0.594896</td>\n      <td>0.97012</td>\n      <td>0.084803</td>\n      <td>0.822709</td>\n      <td>0.939741</td>\n    </tr>\n    <tr>\n      <th>25</th>\n      <td>ALK</td>\n      <td>52.25</td>\n      <td>375</td>\n      <td>-0.218545</td>\n      <td>0.0996016</td>\n      <td>0.451875</td>\n      <td>0.846614</td>\n      <td>0.437210</td>\n      <td>0.914343</td>\n      <td>0.032862</td>\n      <td>0.551793</td>\n      <td>0.603088</td>\n    </tr>\n    <tr>\n      <th>26</th>\n      <td>ALL</td>\n      <td>107.19</td>\n      <td>182</td>\n      <td>-0.021519</td>\n      <td>0.350598</td>\n      <td>0.122638</td>\n      <td>0.288845</td>\n      <td>0.149909</td>\n      <td>0.478088</td>\n      <td>0.052175</td>\n      <td>0.679283</td>\n      <td>0.449203</td>\n    </tr>\n    <tr>\n      <th>27</th>\n      <td>ALLE</td>\n      <td>113.03</td>\n      <td>173</td>\n      <td>-0.070922</td>\n      <td>0.278884</td>\n      <td>0.125178</td>\n      <td>0.298805</td>\n      <td>0.159078</td>\n      <td>0.494024</td>\n      <td>0.005300</td>\n      <td>0.340637</td>\n      <td>0.353088</td>\n    </tr>\n    <tr>\n      <th>28</th>\n      <td>ALXN</td>\n      <td>152.63</td>\n      <td>128</td>\n      <td>0.427832</td>\n      <td>0.886454</td>\n      <td>0.375802</td>\n      <td>0.750996</td>\n      <td>0.349471</td>\n      <td>0.856574</td>\n      <td>0.264597</td>\n      <td>0.998008</td>\n      <td>0.873008</td>\n    </tr>\n    <tr>\n      <th>29</th>\n      <td>AMAT</td>\n      <td>85.33</td>\n      <td>229</td>\n      <td>0.409323</td>\n      <td>0.868526</td>\n      <td>0.412981</td>\n      <td>0.798805</td>\n      <td>0.431990</td>\n      <td>0.912351</td>\n      <td>0.029098</td>\n      <td>0.525896</td>\n      <td>0.776394</td>\n    </tr>\n    <tr>\n      <th>30</th>\n      <td>AMCR</td>\n      <td>11.64</td>\n      <td>1684</td>\n      <td>0.122144</td>\n      <td>0.567729</td>\n      <td>0.163850</td>\n      <td>0.36255</td>\n      <td>0.064374</td>\n      <td>0.286853</td>\n      <td>0.027802</td>\n      <td>0.523904</td>\n      <td>0.435259</td>\n    </tr>\n    <tr>\n      <th>31</th>\n      <td>AMD</td>\n      <td>91.81</td>\n      <td>213</td>\n      <td>1.007087</td>\n      <td>0.988048</td>\n      <td>0.749572</td>\n      <td>0.968127</td>\n      <td>0.122637</td>\n      <td>0.428287</td>\n      <td>-0.006637</td>\n      <td>0.243028</td>\n      <td>0.656873</td>\n    </tr>\n    <tr>\n      <th>32</th>\n      <td>AME</td>\n      <td>119.04</td>\n      <td>164</td>\n      <td>0.211997</td>\n      <td>0.685259</td>\n      <td>0.346871</td>\n      <td>0.699203</td>\n      <td>0.208742</td>\n      <td>0.61753</td>\n      <td>0.013659</td>\n      <td>0.418327</td>\n      <td>0.60508</td>\n    </tr>\n    <tr>\n      <th>33</th>\n      <td>AMGN</td>\n      <td>222.93</td>\n      <td>87</td>\n      <td>-0.041758</td>\n      <td>0.318725</td>\n      <td>-0.034033</td>\n      <td>0.063745</td>\n      <td>-0.109549</td>\n      <td>0.0159363</td>\n      <td>0.012385</td>\n      <td>0.400398</td>\n      <td>0.199701</td>\n    </tr>\n    <tr>\n      <th>34</th>\n      <td>AMP</td>\n      <td>189.70</td>\n      <td>103</td>\n      <td>0.182123</td>\n      <td>0.657371</td>\n      <td>0.294238</td>\n      <td>0.621514</td>\n      <td>0.251649</td>\n      <td>0.695219</td>\n      <td>0.035036</td>\n      <td>0.565737</td>\n      <td>0.63496</td>\n    </tr>\n    <tr>\n      <th>35</th>\n      <td>AMT</td>\n      <td>218.65</td>\n      <td>89</td>\n      <td>-0.024951</td>\n      <td>0.344622</td>\n      <td>-0.140468</td>\n      <td>0.0159363</td>\n      <td>-0.085133</td>\n      <td>0.0258964</td>\n      <td>-0.043465</td>\n      <td>0.063745</td>\n      <td>0.11255</td>\n    </tr>\n    <tr>\n      <th>36</th>\n      <td>AMZN</td>\n      <td>3172.69</td>\n      <td>6</td>\n      <td>0.777391</td>\n      <td>0.968127</td>\n      <td>0.190485</td>\n      <td>0.424303</td>\n      <td>0.043066</td>\n      <td>0.231076</td>\n      <td>0.036709</td>\n      <td>0.579681</td>\n      <td>0.550797</td>\n    </tr>\n    <tr>\n      <th>37</th>\n      <td>ANET</td>\n      <td>288.84</td>\n      <td>67</td>\n      <td>0.435152</td>\n      <td>0.894422</td>\n      <td>0.389849</td>\n      <td>0.766932</td>\n      <td>0.410670</td>\n      <td>0.898406</td>\n      <td>0.078352</td>\n      <td>0.800797</td>\n      <td>0.840139</td>\n    </tr>\n    <tr>\n      <th>38</th>\n      <td>ANSS</td>\n      <td>364.17</td>\n      <td>53</td>\n      <td>0.410435</td>\n      <td>0.87251</td>\n      <td>0.244507</td>\n      <td>0.517928</td>\n      <td>0.109495</td>\n      <td>0.388446</td>\n      <td>0.073951</td>\n      <td>0.7749</td>\n      <td>0.638446</td>\n    </tr>\n    <tr>\n      <th>39</th>\n      <td>ANTM</td>\n      <td>308.67</td>\n      <td>63</td>\n      <td>0.049834</td>\n      <td>0.460159</td>\n      <td>0.197458</td>\n      <td>0.434263</td>\n      <td>0.168278</td>\n      <td>0.51992</td>\n      <td>0.007280</td>\n      <td>0.364542</td>\n      <td>0.444721</td>\n    </tr>\n    <tr>\n      <th>40</th>\n      <td>AON</td>\n      <td>210.61</td>\n      <td>93</td>\n      <td>0.006360</td>\n      <td>0.388446</td>\n      <td>0.083361</td>\n      <td>0.211155</td>\n      <td>0.009272</td>\n      <td>0.151394</td>\n      <td>0.013715</td>\n      <td>0.420319</td>\n      <td>0.292829</td>\n    </tr>\n    <tr>\n      <th>41</th>\n      <td>AOS</td>\n      <td>55.48</td>\n      <td>353</td>\n      <td>0.192830</td>\n      <td>0.663347</td>\n      <td>0.192822</td>\n      <td>0.430279</td>\n      <td>0.059710</td>\n      <td>0.2749</td>\n      <td>-0.011366</td>\n      <td>0.217131</td>\n      <td>0.396414</td>\n    </tr>\n    <tr>\n      <th>42</th>\n      <td>APA</td>\n      <td>14.43</td>\n      <td>1358</td>\n      <td>-0.421987</td>\n      <td>0.0278884</td>\n      <td>0.084067</td>\n      <td>0.213147</td>\n      <td>0.542556</td>\n      <td>0.956175</td>\n      <td>0.130334</td>\n      <td>0.924303</td>\n      <td>0.530378</td>\n    </tr>\n    <tr>\n      <th>43</th>\n      <td>APD</td>\n      <td>268.35</td>\n      <td>73</td>\n      <td>0.163717</td>\n      <td>0.635458</td>\n      <td>0.118868</td>\n      <td>0.284861</td>\n      <td>-0.097126</td>\n      <td>0.0199203</td>\n      <td>-0.040016</td>\n      <td>0.0796813</td>\n      <td>0.25498</td>\n    </tr>\n    <tr>\n      <th>44</th>\n      <td>APH</td>\n      <td>129.17</td>\n      <td>151</td>\n      <td>0.211178</td>\n      <td>0.683267</td>\n      <td>0.360299</td>\n      <td>0.721116</td>\n      <td>0.200866</td>\n      <td>0.611554</td>\n      <td>-0.006056</td>\n      <td>0.25498</td>\n      <td>0.567729</td>\n    </tr>\n    <tr>\n      <th>45</th>\n      <td>APTV</td>\n      <td>128.42</td>\n      <td>152</td>\n      <td>0.354600</td>\n      <td>0.828685</td>\n      <td>0.646817</td>\n      <td>0.954183</td>\n      <td>0.399651</td>\n      <td>0.890438</td>\n      <td>0.081045</td>\n      <td>0.812749</td>\n      <td>0.871514</td>\n    </tr>\n    <tr>\n      <th>46</th>\n      <td>ARE</td>\n      <td>174.50</td>\n      <td>112</td>\n      <td>0.105656</td>\n      <td>0.537849</td>\n      <td>0.086025</td>\n      <td>0.219124</td>\n      <td>0.094063</td>\n      <td>0.358566</td>\n      <td>0.069138</td>\n      <td>0.760956</td>\n      <td>0.469124</td>\n    </tr>\n    <tr>\n      <th>47</th>\n      <td>ATO</td>\n      <td>92.77</td>\n      <td>211</td>\n      <td>-0.148959</td>\n      <td>0.175299</td>\n      <td>-0.054215</td>\n      <td>0.0498008</td>\n      <td>-0.020308</td>\n      <td>0.113546</td>\n      <td>-0.029513</td>\n      <td>0.121514</td>\n      <td>0.11504</td>\n    </tr>\n    <tr>\n      <th>48</th>\n      <td>ATVI</td>\n      <td>90.96</td>\n      <td>215</td>\n      <td>0.550352</td>\n      <td>0.930279</td>\n      <td>0.205797</td>\n      <td>0.442231</td>\n      <td>0.130574</td>\n      <td>0.446215</td>\n      <td>0.151485</td>\n      <td>0.958167</td>\n      <td>0.694223</td>\n    </tr>\n    <tr>\n      <th>49</th>\n      <td>AVB</td>\n      <td>157.74</td>\n      <td>124</td>\n      <td>-0.213013</td>\n      <td>0.105578</td>\n      <td>0.045510</td>\n      <td>0.153386</td>\n      <td>0.071249</td>\n      <td>0.304781</td>\n      <td>-0.039676</td>\n      <td>0.0856574</td>\n      <td>0.162351</td>\n    </tr>\n    <tr>\n      <th>50</th>\n      <td>AVGO</td>\n      <td>431.46</td>\n      <td>N/A</td>\n      <td>0.431799</td>\n      <td>0.890438</td>\n      <td>0.395322</td>\n      <td>0.776892</td>\n      <td>0.197845</td>\n      <td>0.599602</td>\n      <td>0.086705</td>\n      <td>0.828685</td>\n      <td>0.773904</td>\n    </tr>\n  </tbody>\n</table>\n</div>"
     },
     "metadata": {},
     "execution_count": 50
    }
   ],
   "source": [
    "position_size = float(portfolio_size) / len(hqm_dataframe.index)\n",
    "for i in range(0, len(hqm_dataframe['Ticker'])-1):\n",
    "    hqm_dataframe.loc[i, 'Number of Shares to Buy'] = math.floor(position_size / hqm_dataframe['Price'][i])\n",
    "hqm_dataframe"
   ]
  },
  {
   "cell_type": "markdown",
   "metadata": {},
   "source": [
    "## Formatting Our Excel Output\n",
    "\n",
    "We will be using the XlsxWriter library for Python to create nicely-formatted Excel files.\n",
    "\n",
    "XlsxWriter is an excellent package and offers tons of customization. However, the tradeoff for this is that the library can seem very complicated to new users. Accordingly, this section will be fairly long because I want to do a good job of explaining how XlsxWriter works."
   ]
  },
  {
   "cell_type": "code",
   "execution_count": 51,
   "metadata": {},
   "outputs": [],
   "source": [
    "writer = pd.ExcelWriter('momentum_strategy.xlsx', engine='xlsxwriter')\n",
    "hqm_dataframe.to_excel(writer, sheet_name='Momentum Strategy', index = False)"
   ]
  },
  {
   "cell_type": "markdown",
   "metadata": {},
   "source": [
    "## Creating the Formats We'll Need For Our .xlsx File\n",
    "\n",
    "You'll recall from our first project that formats include colors, fonts, and also symbols like % and $. We'll need four main formats for our Excel document:\n",
    "\n",
    "* String format for tickers\n",
    "* \\$XX.XX format for stock prices\n",
    "* \\$XX,XXX format for market capitalization\n",
    "* Integer format for the number of shares to purchase\n",
    "\n",
    "Since we already built our formats in the last section of this course, I've included them below for you. Run this code cell before proceeding."
   ]
  },
  {
   "cell_type": "code",
   "execution_count": 52,
   "metadata": {},
   "outputs": [],
   "source": [
    "background_color = '#0a0a23'\n",
    "font_color = '#ffffff'\n",
    "\n",
    "string_template = writer.book.add_format(\n",
    "        {\n",
    "            'font_color': font_color,\n",
    "            'bg_color': background_color,\n",
    "            'border': 1\n",
    "        }\n",
    "    )\n",
    "\n",
    "dollar_template = writer.book.add_format(\n",
    "        {\n",
    "            'num_format':'$0.00',\n",
    "            'font_color': font_color,\n",
    "            'bg_color': background_color,\n",
    "            'border': 1\n",
    "        }\n",
    "    )\n",
    "\n",
    "integer_template = writer.book.add_format(\n",
    "        {\n",
    "            'num_format':'0',\n",
    "            'font_color': font_color,\n",
    "            'bg_color': background_color,\n",
    "            'border': 1\n",
    "        }\n",
    "    )\n",
    "\n",
    "percent_template = writer.book.add_format(\n",
    "        {\n",
    "            'num_format':'0.0%',\n",
    "            'font_color': font_color,\n",
    "            'bg_color': background_color,\n",
    "            'border': 1\n",
    "        }\n",
    "    )"
   ]
  },
  {
   "cell_type": "code",
   "execution_count": 53,
   "metadata": {},
   "outputs": [],
   "source": [
    "column_formats = { \n",
    "                    'A': ['Ticker', string_template],\n",
    "                    'B': ['Price', dollar_template],\n",
    "                    'C': ['Number of Shares to Buy', integer_template],\n",
    "                    'D': ['One-Year Price Return', percent_template],\n",
    "                    'E': ['One-Year Return Percentile', percent_template],\n",
    "                    'F': ['Six-Month Price Return', percent_template],\n",
    "                    'G': ['Six-Month Return Percentile', percent_template],\n",
    "                    'H': ['Three-Month Price Return', percent_template],\n",
    "                    'I': ['Three-Month Return Percentile', percent_template],\n",
    "                    'J': ['One-Month Price Return', percent_template],\n",
    "                    'K': ['One-Month Return Percentile', percent_template],\n",
    "                    'L': ['HQM Score', integer_template]\n",
    "                    }\n",
    "\n",
    "for column in column_formats.keys():\n",
    "    writer.sheets['Momentum Strategy'].set_column(f'{column}:{column}', 20, column_formats[column][1])\n",
    "    writer.sheets['Momentum Strategy'].write(f'{column}1', column_formats[column][0], string_template)"
   ]
  },
  {
   "cell_type": "markdown",
   "metadata": {},
   "source": [
    "## Saving Our Excel Output\n",
    "\n",
    "As before, saving our Excel output is very easy:"
   ]
  },
  {
   "cell_type": "code",
   "execution_count": 54,
   "metadata": {},
   "outputs": [],
   "source": [
    "writer.save()"
   ]
  }
 ],
 "metadata": {
  "kernelspec": {
   "display_name": "Python 3",
   "language": "python",
   "name": "python3"
  },
  "language_info": {
   "codemirror_mode": {
    "name": "ipython",
    "version": 3
   },
   "file_extension": ".py",
   "mimetype": "text/x-python",
   "name": "python",
   "nbconvert_exporter": "python",
   "pygments_lexer": "ipython3",
   "version": "3.8.5-final"
  }
 },
 "nbformat": 4,
 "nbformat_minor": 4
}